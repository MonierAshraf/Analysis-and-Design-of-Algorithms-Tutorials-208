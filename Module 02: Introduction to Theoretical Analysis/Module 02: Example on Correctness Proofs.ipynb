{
 "cells": [
  {
   "cell_type": "markdown",
   "metadata": {},
   "source": [
    "# Module 2 - Example: Using Proofs in Algorithms"
   ]
  },
  {
   "cell_type": "markdown",
   "metadata": {},
   "source": [
    "CSCI304: Analysis and Design of Algorithms<br>\n",
    "Nile University<br>\n",
    "Contacts: Ammar Sherif (email-ID: ASherif, office: 229)<br>\n",
    "Module 02"
   ]
  },
  {
   "cell_type": "markdown",
   "metadata": {},
   "source": [
    "## Problem Statement"
   ]
  },
  {
   "cell_type": "markdown",
   "metadata": {},
   "source": [
    "Prove that the following algorithm is correct:"
   ]
  },
  {
   "cell_type": "code",
   "execution_count": 1,
   "metadata": {},
   "outputs": [],
   "source": [
    "def maxVal(A):\n",
    "    \"\"\"\n",
    "    The Algorithm returns the maximum value in the list\n",
    "    \n",
    "    Input constraints: A is not empty\n",
    "    \"\"\"\n",
    "    maxV = A[0]\n",
    "    for v in A:\n",
    "        if maxV < v:\n",
    "            maxV = v\n",
    "    return maxV"
   ]
  },
  {
   "cell_type": "code",
   "execution_count": 3,
   "metadata": {},
   "outputs": [
    {
     "data": {
      "text/plain": [
       "40"
      ]
     },
     "execution_count": 3,
     "metadata": {},
     "output_type": "execute_result"
    }
   ],
   "source": [
    "maxVal([1,2,3,40,5,6])"
   ]
  },
  {
   "cell_type": "markdown",
   "metadata": {},
   "source": [
    "## Proof"
   ]
  },
  {
   "cell_type": "markdown",
   "metadata": {},
   "source": [
    "We first try to try to formulate a hypothesis to help us in proving the correctness. It is as follows:\n",
    "\n",
    "$$H(i): \\text{ After the completion of the }i^{th} \\text{ iteration,}$$\n",
    "$$\\boxed{\\texttt{maxV} = \\max(A[0],A[1],\\cdots,A[i-1])}$$\n",
    "Which is a compact representation of:\n",
    "\\begin{equation}\n",
    "    \\texttt{maxV} \\in \\{ A[0],A[1],\\cdots,A[i-1]\\}\\\\\n",
    "    \\land ( \\texttt{maxV} \\geq A[0] \\land \\texttt{maxV} \\geq A[1] \\land \\cdots \\land \\texttt{maxV} \\geq A[i-1] )\n",
    "\\end{equation}\n",
    "To prove using Induction, we have two steps we have to show that it holds:\n",
    "<ol>\n",
    "    <li>Base Case</li>\n",
    "    <li>Inductive Step</li>\n",
    "</ol>"
   ]
  },
  {
   "cell_type": "markdown",
   "metadata": {},
   "source": [
    "### Base case"
   ]
  },
  {
   "cell_type": "markdown",
   "metadata": {},
   "source": [
    "After the completion of the first iteration, we know that $\\texttt{maxV} = \\max(A[0]) = A[0]$ because of the **initialization** at the first line before the loop. Therefore, we showed that $\\boxed{H(1)}$ holds."
   ]
  },
  {
   "cell_type": "markdown",
   "metadata": {},
   "source": [
    "### Inductive step"
   ]
  },
  {
   "cell_type": "markdown",
   "metadata": {},
   "source": [
    "We want to show that $$H(k) \\implies H(k+1)$$\n",
    "Therefore, assuming $H(k)$ is True:<br>\n",
    "$$H(k) \\implies \\texttt{maxV}\\rvert_k = \\max(A[0],A[1],\\cdots,A[k-1])$$\n",
    "For the next iteration $\\texttt{v} = A[k]$; then, we have a condition as follows\n",
    "\\begin{align*}\n",
    "H(k) &\\implies\\\\\n",
    "\\texttt{maxV}\\rvert_{k+1} &=\n",
    "\\begin{cases}\n",
    "\\texttt{v} = A[k], \\qquad \\texttt{maxV}\\rvert_{k} < A[k]\\\\\n",
    "\\texttt{maxV}\\rvert_{k}, \\qquad \\text{otherwise}\n",
    "\\end{cases}\\\\\n",
    "&= \\max(\\texttt{maxV}\\rvert_{k},A[k])\\\\\n",
    "&= \\max(\\underbrace{\\max(A[0],A[1],\\cdots,A[k-1])}_{H(k)},A[k])\\\\\n",
    "&= \\max(A[0],A[1],\\cdots,A[k])\n",
    "\\end{align*}\n",
    "Therefore, after the end of this iteration the variable\n",
    "$$\\underbrace{\\texttt{maxV} = \\max(A[0],A[1],\\cdots,A[k])}_{H(k+1)}$$\n",
    "$$\\boxed{H(k) \\implies H(k+1)}$$"
   ]
  },
  {
   "cell_type": "markdown",
   "metadata": {},
   "source": [
    "### Termination"
   ]
  },
  {
   "cell_type": "markdown",
   "metadata": {},
   "source": [
    "Now, using the induction proof above: we know that after the last iteration, $m^{th}$ iteration, $H(m)$ holds. Therefore, $$\\texttt{maxV} = \\max(A[0],\\cdots,A[m-1])$$\n",
    "The remaining is that our algorithm terminates after the end of the loop, returning the maximum value, so the algorithm is *correct*."
   ]
  }
 ],
 "metadata": {
  "kernelspec": {
   "display_name": "Python 3",
   "language": "python",
   "name": "python3"
  },
  "language_info": {
   "codemirror_mode": {
    "name": "ipython",
    "version": 3
   },
   "file_extension": ".py",
   "mimetype": "text/x-python",
   "name": "python",
   "nbconvert_exporter": "python",
   "pygments_lexer": "ipython3",
   "version": "3.8.3"
  }
 },
 "nbformat": 4,
 "nbformat_minor": 1
}
