{
 "cells": [
  {
   "cell_type": "markdown",
   "metadata": {},
   "source": [
    "# Exercise 5: Using Proofs in Algorithms"
   ]
  },
  {
   "cell_type": "markdown",
   "metadata": {},
   "source": [
    "CSCI304: Analysis and Design of Algorithms<br>\n",
    "Nile University<br>\n",
    "Ammar Sherif<br>\n",
    "Module 02"
   ]
  },
  {
   "cell_type": "markdown",
   "metadata": {},
   "source": [
    "## Problem Statement"
   ]
  },
  {
   "cell_type": "markdown",
   "metadata": {},
   "source": [
    "In <a href='../../Module 01: Empirical Analysis/Exercises/E1.ipynb'>E1</a>, Module 1, you wrote an algorithm to check whether a number is prime or not. Prove that your algorithm is actually correct."
   ]
  },
  {
   "cell_type": "code",
   "execution_count": null,
   "metadata": {},
   "outputs": [],
   "source": [
    "# write your implementation from Task 1 here\n",
    "def isPrime(n):\n",
    "    \"\"\"\n",
    "    checks whether the positive integer n, which is at least 2, is prime or not\n",
    "    \n",
    "    It takes\n",
    "     n: represnts the integer value to be checked\n",
    "    \n",
    "    It should return \n",
    "    [-] true or false\n",
    "    \"\"\"\n",
    "    "
   ]
  },
  {
   "cell_type": "code",
   "execution_count": null,
   "metadata": {},
   "outputs": [],
   "source": [
    "# use some inputs to empirically test your algorithm\n",
    "isPrime(11)"
   ]
  },
  {
   "cell_type": "markdown",
   "metadata": {},
   "source": [
    "## Proof"
   ]
  },
  {
   "cell_type": "markdown",
   "metadata": {},
   "source": [
    "### What is your Hypothesis?"
   ]
  },
  {
   "cell_type": "markdown",
   "metadata": {},
   "source": [
    "Edit this cell to insert your statement"
   ]
  },
  {
   "cell_type": "markdown",
   "metadata": {},
   "source": [
    "### Your Induction"
   ]
  },
  {
   "cell_type": "markdown",
   "metadata": {},
   "source": [
    "To submit your proof here, you have multiple options as follows:\n",
    "- Write your proof here in the notebook using LaTeX [*Preferred*]\n",
    "- Write your proof in any other application, any word processing application, and take a screenshot of your proof; then, put it here as an image\n",
    "- Write your proof by hand, and take a photo of your solution and put it here as an image [**least preferred**]<br>Make sure your write is clear enough; we would not return to ask for a clarification."
   ]
  },
  {
   "cell_type": "markdown",
   "metadata": {},
   "source": [
    "[write your proof here]"
   ]
  }
 ],
 "metadata": {
  "kernelspec": {
   "display_name": "Python 3",
   "language": "python",
   "name": "python3"
  },
  "language_info": {
   "codemirror_mode": {
    "name": "ipython",
    "version": 3
   },
   "file_extension": ".py",
   "mimetype": "text/x-python",
   "name": "python",
   "nbconvert_exporter": "python",
   "pygments_lexer": "ipython3",
   "version": "3.8.3"
  }
 },
 "nbformat": 4,
 "nbformat_minor": 1
}
