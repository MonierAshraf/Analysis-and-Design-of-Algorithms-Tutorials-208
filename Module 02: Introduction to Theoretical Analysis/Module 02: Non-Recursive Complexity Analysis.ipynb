{
 "cells": [
  {
   "cell_type": "markdown",
   "metadata": {},
   "source": [
    "# Module 02: Introduction to Theoretical Analysis"
   ]
  },
  {
   "cell_type": "markdown",
   "metadata": {},
   "source": [
    "CSCI304: Analysis and Design of Algorithms<br>\n",
    "Nile University<br>\n",
    "Ammar Sherif"
   ]
  },
  {
   "cell_type": "markdown",
   "metadata": {},
   "source": [
    "Right now, it is assumed you have gone through the [**slides**](https://github.com/ammarSherif/Analysis-and-Design-of-Algorithms-Tutorials/blob/main/Module%2002:%20Introduction%20to%20Theoretical%20Analysis/Module%2002:%20Introduction%20to%20Theoretical%20Analysis.pdf) of Module 2. Here, we try to do some analysis for Non-Recursive Algorithms"
   ]
  },
  {
   "cell_type": "markdown",
   "metadata": {},
   "source": [
    "## Non-Recursive Complexity Analysis"
   ]
  },
  {
   "cell_type": "code",
   "execution_count": 2,
   "metadata": {},
   "outputs": [],
   "source": [
    "def getSum(A):\n",
    "    result = 0      # Assume it takes a_0 units of time\n",
    "    for i in A:\n",
    "        result += i # Assume a particular piece of the reapeted work takes a_1 units of time\n",
    "    return result   # takes a_2 units"
   ]
  },
  {
   "cell_type": "code",
   "execution_count": 3,
   "metadata": {},
   "outputs": [
    {
     "data": {
      "text/plain": [
       "36"
      ]
     },
     "execution_count": 3,
     "metadata": {},
     "output_type": "execute_result"
    }
   ],
   "source": [
    "getSum([1,2,3,4,5,6,7,8])"
   ]
  },
  {
   "cell_type": "markdown",
   "metadata": {},
   "source": [
    "To compute the time consumed by the algorithm accurately, we might proceed as follows: \n",
    "\\begin{align*}\n",
    "    \\text{Time } (T) &= \\underbrace{a_0}_{\\text{initialization}} + \\underbrace{\\sum_{i \\in A} a_1}_{\\text{repeated work}} + \\underbrace{a_2}_{\\text{return}}\\\\\n",
    "    &= a_0 + \\underbrace{\\sum_{k=1}^{n}}_{\\text{assuming $n$ items}} a_1 + a_2\\\\\n",
    "    &= a_0 + a_2 + a_1 \\sum_{k=1}^{n} (1)\\\\\n",
    "    &= \\boxed{c + a_1 n}\n",
    "\\end{align*}\n",
    "\n",
    "Nevertheless, because we care most about the **growth** rather than the exact formula, we analyize the algorithms as follows:\n",
    "\\begin{align*}\n",
    "    \\text{Time } (T) &= \\underbrace{\\Theta(1)}_{\\text{constant time}} + \\underbrace{\\sum_{i \\in A} \\Theta(1)}_{\\text{repeated work}}\\\\\n",
    "    &= \\Theta(1) + \\sum_{k=1}^{n} \\Theta(1)\\\\\n",
    "    &= \\Theta(1) + n \\Theta(1) = \\Theta(1) + \\Theta(n)\\\\\n",
    "    &= \\boxed{\\Theta(n)} = \\mathcal{O}(n)\n",
    "\\end{align*}"
   ]
  },
  {
   "cell_type": "code",
   "execution_count": 4,
   "metadata": {},
   "outputs": [],
   "source": [
    "# feel free to import what you want\n",
    "\n",
    "# This line configures matplotlib to show figures embedded in the notebook, \n",
    "# instead of opening a new window for each figure. More about that later. \n",
    "# If you are using an old version of IPython, try using '%pylab inline' instead.\n",
    "%matplotlib inline\n",
    "\n",
    "import matplotlib\n",
    "import matplotlib.pyplot as plt\n",
    "import time"
   ]
  },
  {
   "cell_type": "code",
   "execution_count": 5,
   "metadata": {},
   "outputs": [],
   "source": [
    "times = []\n",
    "A = []\n",
    "for i in range(1,500):\n",
    "    A.append(i)\n",
    "    start_time = time.time()\n",
    "    getSum(A)\n",
    "    times.append( (time.time() - start_time)*(10**9) )"
   ]
  },
  {
   "cell_type": "code",
   "execution_count": 6,
   "metadata": {},
   "outputs": [
    {
     "data": {
      "image/png": "[encoded data removed]",
      "text/plain": [
       "<Figure size 432x288 with 1 Axes>"
      ]
     },
     "metadata": {
      "needs_background": "light"
     },
     "output_type": "display_data"
    }
   ],
   "source": [
    "# the code to plot the curve\n",
    "\n",
    "# Plot the two rates in the same figure\n",
    "f,ax = plt.subplots()\n",
    "ax.plot(range(1,500),times,label='Sum')\n",
    "ax.set_xlabel('$n$')\n",
    "ax.set_ylabel('Time: nano seconds')\n",
    "ax.set_title('Complexity of getSum')\n",
    "ax.legend(loc=0);"
   ]
  },
  {
   "cell_type": "markdown",
   "metadata": {},
   "source": [
    "### Wrong Thought\n",
    "While abstracting our calculations of the required time, we merged the initialization and the return time into one term, $\\Theta(1)$; as follows:\n",
    "$$\\Theta(1) = \\underbrace{\\Theta(1)}_{\\text{initialization}} + \\underbrace{\\Theta(1)}_{\\text{return}}$$\n",
    "Therefore, what about this reasoning:\n",
    "$$\\sum_{k=1}^{n} \\Theta(1) = \\overbrace{\\Theta(1) + \\Theta(1) + \\Theta(1) + \\cdots + \\Theta(1)}^{ n \\text{ times}} \\stackrel{??}{=} \\Theta(1)$$\n",
    "This is wrong because the number of constants depends on the input $n$&mdash;that is **variable**&mdash;therefore, there would be a variable number of constants, so it changes with changing the input producing $\\Theta(n)$ not $\\Theta(1)$"
   ]
  },
  {
   "cell_type": "markdown",
   "metadata": {},
   "source": [
    "## Brute Force Algorithms"
   ]
  },
  {
   "cell_type": "markdown",
   "metadata": {},
   "source": [
    "A simple technique that tries every possible solution.\n",
    "- might be a good starting point for further enhancements\n",
    "- mostly inefficient"
   ]
  },
  {
   "cell_type": "markdown",
   "metadata": {},
   "source": [
    "### Maximum item of an array"
   ]
  },
  {
   "cell_type": "code",
   "execution_count": 7,
   "metadata": {},
   "outputs": [],
   "source": [
    "def maxVal(A):\n",
    "    \"\"\"\n",
    "    The Algorithm returns the maximum value in the list\n",
    "    \n",
    "    Input constraints: A is not empty\n",
    "    \"\"\"\n",
    "    \n",
    "    for maxV in A:\n",
    "        found = True\n",
    "        for item in A:\n",
    "            if item > maxV:\n",
    "                found = False\n",
    "        if found:\n",
    "            return maxV"
   ]
  },
  {
   "cell_type": "code",
   "execution_count": 8,
   "metadata": {},
   "outputs": [
    {
     "data": {
      "text/plain": [
       "12"
      ]
     },
     "execution_count": 8,
     "metadata": {},
     "output_type": "execute_result"
    }
   ],
   "source": [
    "maxVal([3,1,11,9,12,-20])"
   ]
  },
  {
   "cell_type": "markdown",
   "metadata": {},
   "source": [
    "\\begin{align*}\n",
    "    \\text{Worst-case time }T &= \\sum_{m \\in A} \\sum_{i \\in A} \\mathcal{O}(1) + \\mathcal{O}(1)\\\\\n",
    "    &= \\sum_{j = 1}^{n} \\sum_{k = 1}^{n} \\mathcal{O}(1) + \\mathcal{O}(1)\\\\\n",
    "    &= c \\sum_{j = 1}^{n} \\overbrace{(n - 1 + 1)}^{n} + \\mathcal{O}(1)\\\\\n",
    "    &= c \\cdot n \\sum_{j = 1}^{n} 1+ \\mathcal{O}(1)\\\\\n",
    "    &= c \\cdot n \\cdot n + \\mathcal{O}(1) = \\mathcal{O}(n^2) + \\mathcal{O}(1)\\\\ \n",
    "    &= \\mathcal{O}(n^2)\\\\\n",
    "\\end{align*}"
   ]
  },
  {
   "cell_type": "markdown",
   "metadata": {},
   "source": [
    "### Cryptography\n",
    "List all the possible keys, and try them"
   ]
  },
  {
   "cell_type": "code",
   "execution_count": 9,
   "metadata": {},
   "outputs": [],
   "source": [
    "def bruteForceEff(key):\n",
    "    \"\"\"\n",
    "    The Algorithm returns the number of checks until reaching the valid key\n",
    "    \n",
    "    Input constraints: key is a four digit key [----] where every digit is [0-9]\n",
    "    \"\"\"\n",
    "#     k = int(key)\n",
    "#     count = 0\n",
    "#     for a in range(0,10):\n",
    "#         for b in range(0,10):\n",
    "#             for c in range(0,10):\n",
    "#                 for d in range(0,10):\n",
    "#                     count+=1\n",
    "#                     value = a*1000 + b * 100 + c * 10 + d\n",
    "#                     if value == k:\n",
    "#                         return count\n",
    "    digits = \"0123456789\"\n",
    "    count = 0\n",
    "    for a in digits:\n",
    "        for b in digits:\n",
    "            for c in digits:\n",
    "                for d in digits:\n",
    "                    count+=1\n",
    "                    value = a + b + c  + d\n",
    "                    if value == key:\n",
    "                        return count"
   ]
  },
  {
   "cell_type": "code",
   "execution_count": 10,
   "metadata": {},
   "outputs": [
    {
     "data": {
      "text/plain": [
       "1"
      ]
     },
     "execution_count": 10,
     "metadata": {},
     "output_type": "execute_result"
    }
   ],
   "source": [
    "bruteForceEff(\"0000\")"
   ]
  }
 ],
 "metadata": {
  "kernelspec": {
   "display_name": "Python 3",
   "language": "python",
   "name": "python3"
  },
  "language_info": {
   "codemirror_mode": {
    "name": "ipython",
    "version": 3
   },
   "file_extension": ".py",
   "mimetype": "text/x-python",
   "name": "python",
   "nbconvert_exporter": "python",
   "pygments_lexer": "ipython3",
   "version": "3.8.3"
  }
 },
 "nbformat": 4,
 "nbformat_minor": 4
}
