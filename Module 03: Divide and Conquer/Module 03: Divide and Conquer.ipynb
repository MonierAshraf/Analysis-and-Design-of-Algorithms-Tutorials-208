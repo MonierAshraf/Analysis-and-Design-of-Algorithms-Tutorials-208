{
 "cells": [
  {
   "cell_type": "markdown",
   "metadata": {},
   "source": [
    "# Module 03: Divide and Conquer"
   ]
  },
  {
   "cell_type": "markdown",
   "metadata": {},
   "source": [
    "CSCI304: Analysis and Design of Algorithms<br>\n",
    "Nile University<br>\n",
    "Ammar Sherif"
   ]
  },
  {
   "cell_type": "markdown",
   "metadata": {},
   "source": [
    "## Review\n",
    "- Empirical Analysis\n",
    "- Correctness Proofs and Complexity Analysis\n",
    "- Brute Force Algorithms"
   ]
  },
  {
   "cell_type": "markdown",
   "metadata": {},
   "source": [
    "## Outline\n",
    "- [Divide and Conquer Paradigm](#Divide-and-Conquer-Paradigm)\n",
    "    - [Example 1: Factorial](#Example-1:-Factorial)\n",
    "- [How to Design Recursive Algorithms](#How-to-Design-Recursive-Algorithms)\n",
    "    - [Example 2: Maximum Item](#Example-2:-Maximum-Item)\n",
    "- [Complexity Analysis for Recursive Algorithms](#Complexity-Analysis-for-Recursive-Algorithms)\n",
    "    - [Guess and Prove](#Guess-and-Prove)\n",
    "    - [Recursion-Tree](#Recursion-Tree)\n",
    "    - [Master-Method](#Master-Method)\n",
    "        - [Examples](#Examples)\n",
    "- [Tower of Hanoi](#Tower-of-Hanoi)\n",
    "    - [Empirical Analysis](#Empirical-Analysis)\n",
    "    - [Straightforward Complexity Analysis](#Straightforward-Complexity-Analysis)\n",
    "    - [Complexity Analysis using Recursion Tree](#Complexity-Analysis-using-Recursion-Tree)\n",
    "- [References and Further Readings](#References-and-Further-Readings)"
   ]
  },
  {
   "cell_type": "markdown",
   "metadata": {},
   "source": [
    "## Divide and Conquer Paradigm\n",
    "The idea is that we have a hard problem that we do not know for sure how to tackle; therefore, we try to divide it into simpler problems, solve them, and merge the solutions to provide the solution to the original problem. This requires some properites we have to spot regarding our problem:\n",
    "- The problem could be divided into smaller problems of the *same type*\n",
    "- We can solve these smaller problems at a particular level\n",
    "- Given the solution of these smaller problems, we could combine them to provide the solution of the bigger problem\n",
    "\n",
    "If that happens to hold in our problem, we use the below paradigm:<br>\n",
    "<img src=\"./images/divide_conquer.svg\">"
   ]
  },
  {
   "cell_type": "markdown",
   "metadata": {},
   "source": [
    "### Example 1: Factorial\n",
    "We know that\n",
    "\\begin{align*}\n",
    "    n! &= n \\times \\overbrace{(n-1) \\times (n-2) \\times \\cdots \\times 2 \\times 1}^{(n-1)!}\\\\\n",
    "    &= \\boxed{n \\times (n-1)!}\\\\\n",
    "    0! &= 1! = 1\n",
    "\\end{align*}"
   ]
  },
  {
   "cell_type": "code",
   "execution_count": 27,
   "metadata": {},
   "outputs": [],
   "source": [
    "def fact(n): # T(n)\n",
    "    \"\"\"\n",
    "    This function computes the value of factorial n (n!)\n",
    "    \n",
    "    Input:\n",
    "    - n: the integer for which we want to compute the factorial\n",
    "         it is at least 0 (n>=0)\n",
    "    \"\"\"\n",
    "    if n == 0:   # a\n",
    "        return 1 # b\n",
    "    else:        # d\n",
    "        return n * fact(n-1) # e + T(n-1)\n",
    "#         return max(fact(n-1),fact(n-2)) # max(T(n-1),T(n-2)) ? T(n-1) + T(n-2)"
   ]
  },
  {
   "cell_type": "code",
   "execution_count": 28,
   "metadata": {},
   "outputs": [
    {
     "data": {
      "text/plain": [
       "120"
      ]
     },
     "execution_count": 28,
     "metadata": {},
     "output_type": "execute_result"
    }
   ],
   "source": [
    "fact(5)"
   ]
  },
  {
   "cell_type": "markdown",
   "metadata": {},
   "source": [
    "To compute the time consumed by the algorithm theoretically, we might proceed as follows: \n",
    "\\begin{align*}\n",
    "    \\text{Time } (T_n) &: \\text{denotes the time our function takes to compute $n!$}\\\\\n",
    "    \\implies T_{n-1} &: \\text{denotes the time our function takes to compute $(n-1)!$}\\\\\n",
    "    T_n &= \\underbrace{c}_{\\text{multiplication and condition}} + \\underbrace{T_{n-1}}_{\\text{recursive call}}\\\\\n",
    "    &= c + \\left( c + T_{n-2}\\right) = 2 c + T_{n-2}\\\\\n",
    "    &= 2c + (c + T_{n-3}) = 3c + T_{n-3}\\\\\n",
    "    &\\ \\vdots\\\\\n",
    "    &= (i-1)c + (c + T_{n-i}) = i c + T_{n-i}\\\\\n",
    "    &= c n + T_{0} = c n + a\\\\\n",
    "    &= \\boxed{\\mathcal{O}(n)}\n",
    "\\end{align*}"
   ]
  },
  {
   "cell_type": "code",
   "execution_count": 29,
   "metadata": {},
   "outputs": [],
   "source": [
    "%matplotlib inline\n",
    "\n",
    "import matplotlib\n",
    "import matplotlib.pyplot as plt\n",
    "import time"
   ]
  },
  {
   "cell_type": "code",
   "execution_count": 30,
   "metadata": {},
   "outputs": [],
   "source": [
    "times = []\n",
    "for i in range(1,100):\n",
    "    start_time = time.time()\n",
    "    fact(i)\n",
    "    times.append( (time.time() - start_time)*(10**9) )"
   ]
  },
  {
   "cell_type": "code",
   "execution_count": 31,
   "metadata": {
    "scrolled": false
   },
   "outputs": [
    {
     "data": {
      "image/png": "[encoded data removed]",
      "text/plain": [
       "<Figure size 432x288 with 1 Axes>"
      ]
     },
     "metadata": {
      "needs_background": "light"
     },
     "output_type": "display_data"
    }
   ],
   "source": [
    "# the code to plot the curve\n",
    "\n",
    "f,ax = plt.subplots()\n",
    "ax.plot(range(1,100),times,label='$n!$')\n",
    "ax.set_xlabel('$n$')\n",
    "ax.set_ylabel('Time: nano seconds')\n",
    "ax.set_title('Complexity of fact(n)')\n",
    "ax.legend(loc=0);"
   ]
  },
  {
   "cell_type": "markdown",
   "metadata": {},
   "source": [
    "## How to Design Recursive Algorithms\n",
    "\n",
    "Here, we mention some useful guidelines to develop a recursive solution to a general problem. To do it, it would be helpful to remember the **Strong Induction** proof technique. In general, we would like to build two cases: the **base case** and the **recursive** one. To do so, we follow the below steps.\n",
    "\n",
    "### Step 1: problem size\n",
    "Recursive algorithms take a problem and try to solve it recursively by **decreasing the problem size** at each step. Therefore, before doing anything, you need to know what your **problem size** is. Is it your array size? simply the value of the input? a number of characters? or what exactly? \n",
    "\n",
    "### Step 2: define your base case\n",
    "We mentioned above that we need to solve the generated problems through recursion at some level, as otherwise, we would just recursively call infinitely. That level is the **base case**, just like in inductive proofs, which is simply a problem with a size that we can directly *solve without recursion*.\n",
    "\n",
    "Therefore, knowing your problem size, we next think about **in which size**, or *at which level*, can we solve our problem directly? After determining that, we write down the *code to solve* the problem in such a case, under the base case. We assume that size is $\\boxed{k}$ in our general implementation.\n",
    "\n",
    "### Step 3: define your recursive case\n",
    "In such a step, we would like to **divide the problem** into a group of smaller problems that we tackle. Then, we **merge** their solutions to get the solution to the problem we want. This is very similar to the **inductive step** in induction proofs, Module 2, so we also tackle it in the same manner.\n",
    "\n",
    "- Assume we **know the solution** to all the problems of size $1, \\cdots, n-1$. How could we merge a **group of them** to solve the problem of size $n$. Knowing this is the recursive case.\n",
    "- **Note**: to design more **efficient** algorithm, you might want to think how to combine solutions whose sizes are proportional to the current problem size. These are of the form of $\\boxed{n/b}$ rather than $\\boxed{n-b}$, assuming we can represent it using that of course. This is not guaranteed to always provide a more efficient version than using $n-b$, yet it might be in various cases.\n",
    "\n",
    "Now, our rescursive function $F$ would be as below\n",
    "\n",
    "F$(n)$: <br>\n",
    "$\\quad$**if** $n \\leq k$ **then**<br>\n",
    "$\\quad$$\\quad$ # the code to solve the **base case** from step 2<br>\n",
    "$\\quad$**else**<br>\n",
    "$\\quad$$\\quad$# **recursive** step: the code from step 3<br>\n",
    "$\\quad$$\\quad$# write down your code that merges the solution using the previous solutsions<br>\n",
    "$\\quad$**endif**"
   ]
  },
  {
   "cell_type": "markdown",
   "metadata": {},
   "source": [
    "### Example 2: Maximum Item\n",
    "\n",
    "We have a list, and we want to find the maximum item in that list. We apply each step as below:\n",
    "\n",
    "- Step 1: What is the problem size? <br>\n",
    "  As we can see our problem size is the number of items inside the list. It takes values from $1, \\cdots, n$. We represent the problem size using two parameters $s$, starting index, and $e$, ending index, where $e-s+1 = n$. The 1 is due to counting *inclusive* items. \n",
    "- Step 2: At what level we can solve our problem without recursion?<br>\n",
    "    We know if we had one item, then it is the maximum. The base case is when $\\boxed{n=1} \\equiv \\boxed{e=s}$. The code is to just return that single item\n",
    "- Step 3: Assuming we know the maximum items in the lists having up to $n-1$ items<br> how can we merge them to solve the problem of having $n$ items?<br> We have two approaches:\n",
    "    - we know max$(a_1,\\cdots,a_{n})$ = max$(a_n,$max$(a_1,\\cdots,a_{n-1}))$\n",
    "    - we could think in another approach max$(a_1,\\cdots,a_{n})$ = max$($ max$(a_1,\\cdots,a_{\\lfloor n/2 \\rfloor}),$ max$(a_{\\lfloor n/2\\rfloor+1},\\cdots,a_{n}))$\n",
    "\n"
   ]
  },
  {
   "cell_type": "code",
   "execution_count": 34,
   "metadata": {},
   "outputs": [],
   "source": [
    "def max1(A,s,e):\n",
    "    \"\"\"\n",
    "    ==================================================================\n",
    "    This function computes the maximum value in the list of items from\n",
    "    A[s] to A[e]\n",
    "    ------------------------------------------------------------------\n",
    "     Inputs:\n",
    "    -     A: The list of items\n",
    "    -     s: the starting index\n",
    "    -     e: the ending index\n",
    "    \n",
    "    Outputs:\n",
    "    -     m: the maximum value in {A[s],A[s+1],...,A[e]}\n",
    "    ==================================================================\n",
    "    \"\"\"\n",
    "    # ================================================================\n",
    "    # First, we write down our base case\n",
    "    # ================================================================\n",
    "    if s == e:\n",
    "        # ------------------------------------------------------------\n",
    "        # The list contains one item, so we return it\n",
    "        # ------------------------------------------------------------\n",
    "        return A[s]\n",
    "    else:\n",
    "        # ------------------------------------------------------------\n",
    "        # Otherwise, the recursive step\n",
    "        # ------------------------------------------------------------\n",
    "        return max(A[e], max1(A,s,e-1) )\n",
    "        # ------------------------------------------------------------\n",
    "        # Alternatively, we might increment s\n",
    "        # return max(A[s], max1(A,s+1,e) )\n",
    "        # ------------------------------------------------------------"
   ]
  },
  {
   "cell_type": "code",
   "execution_count": 35,
   "metadata": {},
   "outputs": [],
   "source": [
    "def max2(A,s,e):\n",
    "    \"\"\"\n",
    "    ==================================================================\n",
    "    This function computes the maximum value in the list of items from\n",
    "    A[s] to A[e]\n",
    "    ------------------------------------------------------------------\n",
    "     Inputs:\n",
    "    -     A: The list of items\n",
    "    -     s: the starting index\n",
    "    -     e: the ending index\n",
    "    \n",
    "    Outputs:\n",
    "    -     m: the maximum value in {A[s],A[s+1],...,A[e]}\n",
    "    ==================================================================\n",
    "    \"\"\"\n",
    "    # ================================================================\n",
    "    # First, we write down our base case\n",
    "    # ================================================================\n",
    "    if s == e:\n",
    "        # ------------------------------------------------------------\n",
    "        # The list contains one item, so we return it\n",
    "        # ------------------------------------------------------------\n",
    "        return A[s]\n",
    "    else:\n",
    "        # ------------------------------------------------------------\n",
    "        # Otherwise, the recursive step\n",
    "        # ------------------------------------------------------------\n",
    "        \n",
    "        # ------------------------------------------------------------\n",
    "        # Compute the index of the middle from s to e. This is not e/2\n",
    "        # ------------------------------------------------------------\n",
    "        midIdx = s+( (e-s)//2 ) \n",
    "        return max( max2(A,s,midIdx) , max2(A,midIdx+1,e) )"
   ]
  },
  {
   "cell_type": "code",
   "execution_count": 36,
   "metadata": {},
   "outputs": [],
   "source": [
    "def max3(A):\n",
    "    \"\"\"\n",
    "    ==================================================================\n",
    "    This function computes the maximum value in <A>\n",
    "    ------------------------------------------------------------------\n",
    "     Inputs:\n",
    "    -     A: The list of items\n",
    "    \n",
    "    Outputs:\n",
    "    -     m: the maximum value in {A[0],A[1],...,A[n-1]}\n",
    "    ==================================================================\n",
    "    \"\"\"\n",
    "    # ================================================================\n",
    "    # First, we write down our base case\n",
    "    # ================================================================\n",
    "    if len(A) == 1:\n",
    "        # ------------------------------------------------------------\n",
    "        # The list contains one item, so we return it\n",
    "        # ------------------------------------------------------------\n",
    "        return A[0]\n",
    "    else:\n",
    "        # ------------------------------------------------------------\n",
    "        # Otherwise, the recursive step\n",
    "        # ------------------------------------------------------------\n",
    "        # Here we do the same thing, yet with no indices. We generate\n",
    "        # two lists and pass them to our function.\n",
    "        # ------------------------------------------------------------\n",
    "        split = len(A)//2\n",
    "        \n",
    "        A1 = A[:split]\n",
    "        A2 = A[split:]\n",
    "        # ------------------------------------------------------------\n",
    "        # Now, get  the maximum in each  list individually,  and merge\n",
    "        # the results.\n",
    "        # ------------------------------------------------------------\n",
    "        a = max3(A1)\n",
    "        b = max3(A2)\n",
    "        \n",
    "        return a if a> b else b"
   ]
  },
  {
   "cell_type": "code",
   "execution_count": 37,
   "metadata": {},
   "outputs": [
    {
     "name": "stdout",
     "output_type": "stream",
     "text": [
      " First implementation: 20\n",
      "Second implementation: 20\n",
      " Third implementation: 20\n"
     ]
    }
   ],
   "source": [
    "A = [1,20,3,-400,5,-6000,7,8,-900]\n",
    "s = 0\n",
    "e = len(A)-1\n",
    "print(\" First implementation:\", max1(A,s,e))\n",
    "print(\"Second implementation:\", max2(A,s,e))\n",
    "print(\" Third implementation:\", max3(A))"
   ]
  },
  {
   "cell_type": "markdown",
   "metadata": {},
   "source": [
    "#### Missing Base Cases\n",
    "\n",
    "After applying the 3 steps, previously discussed, we see we might end up with different sorts of algorithms that does the same thing. For example, what if we wanted to divide them into $\\frac{n}{3},\\frac{n}{3},\\frac{n}{3}$. I am mentioning this particular case to let you notice something. **What if we actually missed a base case?**\n",
    "\n",
    "In the below code we actually did the same thing, yet we encoutered a special size while doing the recursion. We found an empty lists. The recursion will not end in such case. For that reason, we would like to return something that should be very unfavorable while merging. Because we are finding the maximum, we simply return $\\boxed{-\\infty}$, so any other value will be larger than it."
   ]
  },
  {
   "cell_type": "code",
   "execution_count": 38,
   "metadata": {},
   "outputs": [],
   "source": [
    "def ourMaxProxy4(A,s,e):\n",
    "    \"\"\"\n",
    "    ==================================================================\n",
    "    This function computes the maximum value in the list of items from\n",
    "    A[s] to A[e]\n",
    "    ------------------------------------------------------------------\n",
    "     Inputs:\n",
    "    -     A: The list of items\n",
    "    \n",
    "    Outputs:\n",
    "    -     m: the maximum value in {A[s],A[s+1],...,A[e]}\n",
    "    ==================================================================\n",
    "    \"\"\"\n",
    "    # ================================================================\n",
    "    # First, we write down our base case\n",
    "    # ================================================================\n",
    "    # Step 2\n",
    "    N = e-s+1\n",
    "    if N==1:\n",
    "        return A[s]\n",
    "    # ================================================================\n",
    "    # NOTE Because we sometimes  encounter empty lists,  we would like\n",
    "    #      to return a very unfavorable quantity. Because we are find-\n",
    "    #      ing the maximum, we simply return negative infinity; there-\n",
    "    #      fore, this partition will not be considered.\n",
    "    # ================================================================\n",
    "    elif N==0:\n",
    "        return -1*np.inf\n",
    "    # ================================================================\n",
    "    # Step 3: The recursive case\n",
    "    # ================================================================\n",
    "    split1 = s + N//3\n",
    "    split2 = s + 2*N//3\n",
    "    \n",
    "    # ================================================================\n",
    "    # Find the maximum of each sub-list\n",
    "    # ================================================================\n",
    "    a = ourMaxProxy4(A,s,split1-1)\n",
    "    b = ourMaxProxy4(A,split1,split2-1)\n",
    "    c = ourMaxProxy4(A,split2,e)\n",
    "    \n",
    "    # ================================================================\n",
    "    # return the maximum value in the three.\n",
    "    # ================================================================\n",
    "    return max(a,b,c)\n",
    "\n",
    "def max4(A):\n",
    "    \"\"\"\n",
    "    ==================================================================\n",
    "    This  function  computes the  maximum value in <A>. It  is just an\n",
    "    abstraction to <ourMaxProxy3>\n",
    "    ------------------------------------------------------------------\n",
    "     Inputs:\n",
    "    -     A: The list of items\n",
    "    \n",
    "    Outputs:\n",
    "    -     m: the maximum value in {A[0],A[1],...,A[n-1]}\n",
    "    ==================================================================\n",
    "    \"\"\"\n",
    "    # ================================================================\n",
    "    # First, we write down our base case\n",
    "    # ================================================================\n",
    "    # Handling exceptions etc\n",
    "    return ourMaxProxy4(A,0,len(A)-1)"
   ]
  },
  {
   "cell_type": "code",
   "execution_count": 39,
   "metadata": {},
   "outputs": [
    {
     "name": "stdout",
     "output_type": "stream",
     "text": [
      " Third implementation: 20\n"
     ]
    }
   ],
   "source": [
    "print(\" Third implementation:\", max4(A))"
   ]
  },
  {
   "cell_type": "markdown",
   "metadata": {},
   "source": [
    "### Example 3: Search a List\n",
    "\n",
    "We have a list, and we want to find the index of an item if it exists. Otherwise, we return -1. To approach such problem, we simply design our solution to return True if it exists and False, otherwise. Then, we try to modify such algorithm to return the indices, instead.\n",
    "\n",
    "TO BE COMPLETED\n"
   ]
  },
  {
   "cell_type": "markdown",
   "metadata": {},
   "source": [
    "## Complexity Analysis for Recursive Algorithms\n",
    "To find the complexity of a recursive algorithm, we have various options:\n",
    "- **Guess** a bound, and prove it [Induction would be very helpful]\n",
    "- **Recursion-tree**: expands the time costs per level in the recursion tree, and sum all the costs to compute the overall time\n",
    "- **Master** method: we will see it later on"
   ]
  },
  {
   "cell_type": "markdown",
   "metadata": {},
   "source": [
    "### Guess and Prove\n",
    "Assume we want to estimate the complexity of the given recurrrence: $$T(n) = 2T(\\lfloor n/2 \\rfloor)+n$$\n",
    "We guess that $$T(n)= \\mathcal{O}(n \\lg n)$$\n",
    "To prove it we use **Strong Iduction** with the below hypothesis: $\\boxed{H(n): T(n) \\leq c n \\lg n}$\n",
    "- **Base cases**: \n",
    "    - $H(2): T(2) = 2 \\times 1 + 2 = 4 \\leq c \\times 2 \\lg 2$ which is $True, \\text{ when } 2 c \\geq 4 \\implies \\boxed{c \\geq 2}$\n",
    "    - $H(3): T(3) = 2 \\times 1 + 3 = 5 \\leq c \\times 3 \\lg 3$ which is $True, \\text{ when } c \\geq 2$\n",
    "- **Inductive Step**: assuming $H(2) \\land H(3) \\land \\cdots \\land H(n-1)$ \n",
    "\\begin{align*}\n",
    "    T(n) &= 2T(\\lfloor n/2 \\rfloor)+n\\\\\n",
    "    &\\leq 2c\\left\\lfloor \\frac{n}{2} \\right\\rfloor \\lg \\left(\\left\\lfloor \\frac{n}{2} \\right\\rfloor\\right) + n\\\\\n",
    "    &\\leq c n \\lg \\left( \\frac{n}{2} \\right) + n\\\\\n",
    "    &\\leq c n \\lg n - c n \\lg 2 + n\\\\\n",
    "    &\\leq c n \\lg n - c n + n\\\\\n",
    "    &\\leq c n \\lg n - \\underbrace{n(c - 1 )}_{\\geq0 \\ \\forall_{c \\geq 1}}\\\\\n",
    "    &\\leq c n \\lg n &\\forall c \\geq 2\\\\\n",
    "    \\implies &\\boxed{H(n)}\n",
    "\\end{align*}\n",
    "\n",
    "Therefore, given the above proof, we know that $$T(n) = \\mathcal{O}(n \\lg n)$$\n",
    "\n",
    "Final note regarding this method is that it depends on mathematical manipulation to prove the hypothesis; therefore, you might introduce constants or change variables to prove hard problems. During the tasks, we will spot some of these problems."
   ]
  },
  {
   "cell_type": "markdown",
   "metadata": {},
   "source": [
    "### Recursion-Tree\n",
    "In this method, we represent the cost, in time, as a tree. Each **node** represents an independant work done in that level, regardless of the recursive work. The **subtree** of the node represents the **recursive** work.\n",
    "We use this method to give us a good hint to the algorithm complexity, so we might need to prove it mathematically after that.<br>\n",
    "As an example, assume $$T(n) = 2 T(n/2) + n$$\n",
    "We proceed as below:\n",
    "<img src=\"./images/recursion_tree_basic.svg\">\n",
    "<img src=\"./images/recursion_tree.svg\" width=\"75%\" height=\"75%\">"
   ]
  },
  {
   "cell_type": "markdown",
   "metadata": {},
   "source": [
    "### Master Method\n",
    "The method aims to solve a general recurrence on the following form \n",
    "$$\\boxed{T(n) = a T(n/b) + f(n)} \\qquad a \\geq 1, b > 1, f(n) \\text{ is asymptotically positive}$$\n",
    "To illustrate the master theorem behind it, we use the recursion tree as below:\n",
    "<img src=\"./images/master_tree.svg\"><br>\n",
    "Note: we know that the last level would be a constant work, $\\Theta(1)$, when \n",
    "\\begin{align*}\n",
    "    \\frac{n}{b^k} &= 1\\\\\n",
    "    n &= b^k\\\\\n",
    "    k &= \\log_b n\n",
    "\\end{align*}\n",
    "As seen from the tree the absolute total work is \n",
    "$$\\Theta\\left(\\displaystyle\\sum_{i = 0}^k a^i \\cdot f\\left(\\frac{n}{b^i}\\right)\\right) = \\Theta(f(n)) + \\Theta\\left(a f\\left(\\frac{n}{b}\\right)\\right) + \\cdots + \\Theta\\left(a^{\\log_b n}\\right)$$\n",
    "Again, notice:\n",
    "$$\\boxed{a^{\\log_b n} = n^{\\log_b a}}$$\n",
    "Therefore,\n",
    "$$\\Theta\\left(\\displaystyle\\sum_{i = 0}^k a^i \\cdot f\\left(\\frac{n}{b^i}\\right)\\right) = \\Theta(f(n)) + \\Theta\\left(a f\\left(\\frac{n}{b}\\right)\\right) + \\cdots + \\Theta\\left(n^{\\log_b a}\\right)$$\n",
    "Now, we have three cases as follows:\n",
    "<ol>\n",
    "    <li><b>Case 1</b>: The work of a particular, recursion, level <strong>increases</strong> as we increase the level depth<br>\n",
    "    $$f(n) = \\mathcal{O}\\left(n^{\\log_b a - c}\\right), \\text{ for a positive constant }c \\implies \\boxed{T(n) = \\Theta\\left(n^{\\log_b a}\\right)} $$\n",
    "    </li>\n",
    "    <li><b>Case 2</b>: The work of a particular, recursion, level <strong>remains the same</strong> as we increase the level depth<br>\n",
    "    $$f(n) = \\Theta\\left(n^{\\log_b a}\\right) \\implies T(n) = \\Theta\\left(\\underbrace{n^{\\log_b a}}_{\\text{work per level}} \\cdot \\underbrace{\\log_b n}_{\\text{number of levels}} \\right) \\implies \\boxed{T(n) = \\Theta\\left(n^{\\log_b a} \\lg n \\right)} $$\n",
    "    </li>\n",
    "    <li><b>Case 3</b>: The work of a particular, recursion, level <strong>decreases</strong> as we increase the level depth<br>\n",
    "    $$f(n) = \\Omega\\left(n^{\\log_b a + c}\\right), \\text{ for a positive constant }c, \\text{ and } a f(n/b) \\leq \\beta f(n) \\text{ for large $n$ and $\\beta < 1$} \\implies \\boxed{T(n) = \\Theta\\left(f(n)\\right)} $$\n",
    "    </li>\n",
    "</ol>"
   ]
  },
  {
   "cell_type": "markdown",
   "metadata": {},
   "source": [
    "#### Examples\n",
    "We provide 3 examples&mdash;one for each case&mdash;as follows:\n",
    "- $T(n) = 9T(n/3)+n \\implies f(n)=n, a = 9, \\text{and } b = 3 \\implies n^{\\log_b a} = n^2 \\implies f(n) = n = \\mathcal{O}(n^{2-c})$<br>\n",
    "  Thus, from case 1, we know that $$T(n) = \\Theta(n^{\\log_b a}) = \\Theta(n^2)$$\n",
    "- $T(n) = 2T(n/2)+n \\implies f(n)=n, a = 2, \\text{and } b = 2 \\implies n^{\\log_b a} = n = \\Theta(f(n)) = \\Theta(n)$<br>\n",
    "  Thus, from case 2, we know that $$T(n) = \\Theta(n \\lg n)$$\n",
    "- $T(n) = 3T(n/4)+ n \\lg n \\implies f(n)=n \\lg n, a = 3, \\text{and } b = 4 \\implies n^{\\log_b a} = n^{\\log_4 3} = \\mathcal{O}(n^{0.793}), f(n) = n \\lg n = \\Omega(n^{0.793+c})$<br>\n",
    "  Thus, from case 3, we know that $$T(n) = \\Theta(f(n)) = \\Theta(n \\lg n)$$"
   ]
  },
  {
   "cell_type": "markdown",
   "metadata": {},
   "source": [
    "## Tower of Hanoi\n",
    "There are three pegs as in the below picture [[1]](#image-source:-wikipedia) along with $n$ disks stacked in ascending order, in size, on one peg; we ought to move all the disks to another peg obeying these rules:\n",
    "- We can only move one disk per move\n",
    "- We cannot put a larger disk on a smaller one\n",
    "- We can only move disks on the top\n",
    "\n",
    "<img src=\"./images/Tower_of_Hanoi.jpeg\">"
   ]
  },
  {
   "cell_type": "markdown",
   "metadata": {},
   "source": [
    "Analysing the problem, we notice that the only way to move the largest disk, to solve the problem, is:\n",
    "- first move all the other disks on a peg.\n",
    "- then, we move the largest disk on the other peg.\n",
    "- after that, we have to move back the disks above that disk.\n",
    "\n",
    "Therefore assume $f(n)$ is the function that shows the steps to move $n$ disks; we know that $f(n) = $\n",
    "- $f(n-1)$ to move the other disks to peg 2\n",
    "- move the largest disk to peg 3\n",
    "- $f(n-1)$ to move the disks from peg 2 to peg 3\n",
    "\n",
    "and this is exactly what we do in the below function"
   ]
  },
  {
   "cell_type": "code",
   "execution_count": 40,
   "metadata": {},
   "outputs": [],
   "source": [
    "def move(a,b):\n",
    "    print(\"Move the disk from \"+a+\" to \"+b)\n",
    "\n",
    "def solveHanoi(n,a,b,c):\n",
    "    \"\"\"\n",
    "    The Algorithm prints the steps to solve the problem of tower of hanoi \n",
    "    moving <n> disks from peg <a> to peg <c>, with peg <b> as a spare  \n",
    "    \n",
    "    Inputs: \n",
    "    n: the number of disks, at least 1\n",
    "    a: the initial peg\n",
    "    b: the spare\n",
    "    c: the target peg\n",
    "    \"\"\"\n",
    "    if n==1:\n",
    "        # base case\n",
    "        move(a,c)\n",
    "    else:\n",
    "        # recursive case\n",
    "        # move n-1 to b\n",
    "        solveHanoi(n-1,a,c,b)\n",
    "        # move the largest to c\n",
    "        move(a,c)\n",
    "        # move the n-1 from b to c\n",
    "        solveHanoi(n-1,b,a,c)"
   ]
  },
  {
   "cell_type": "code",
   "execution_count": 41,
   "metadata": {},
   "outputs": [
    {
     "name": "stdout",
     "output_type": "stream",
     "text": [
      "Move the disk from 1 to 3\n",
      "Move the disk from 1 to 2\n",
      "Move the disk from 3 to 2\n",
      "Move the disk from 1 to 3\n",
      "Move the disk from 2 to 1\n",
      "Move the disk from 2 to 3\n",
      "Move the disk from 1 to 3\n"
     ]
    }
   ],
   "source": [
    "solveHanoi(3,\"1\",\"2\",\"3\")"
   ]
  },
  {
   "cell_type": "markdown",
   "metadata": {},
   "source": [
    "### Empirical Analysis\n",
    "We start with visualizing the number of the required steps to solve the problem, to give us a hint over its complexity"
   ]
  },
  {
   "cell_type": "code",
   "execution_count": 42,
   "metadata": {},
   "outputs": [],
   "source": [
    "def solveHanoiSteps(n):\n",
    "    \"\"\"\n",
    "    The Algorithm computes the number of steps to solve the tower of hanoi\n",
    "    \n",
    "    Inputs: \n",
    "    n: the number of disks, at least 1\n",
    "    \"\"\"\n",
    "    if n==1:\n",
    "        return 1\n",
    "    else:\n",
    "        # recursive case\n",
    "        return 2 * solveHanoiSteps(n-1) + 1"
   ]
  },
  {
   "cell_type": "code",
   "execution_count": 43,
   "metadata": {},
   "outputs": [],
   "source": [
    "%matplotlib inline\n",
    "\n",
    "import matplotlib\n",
    "import matplotlib.pyplot as plt\n",
    "import time"
   ]
  },
  {
   "cell_type": "code",
   "execution_count": 44,
   "metadata": {},
   "outputs": [],
   "source": [
    "steps = []\n",
    "for i in range(1,30):\n",
    "    steps.append(solveHanoiSteps(i))"
   ]
  },
  {
   "cell_type": "code",
   "execution_count": 45,
   "metadata": {},
   "outputs": [
    {
     "data": {
      "image/png": "[encoded data removed]",
      "text/plain": [
       "<Figure size 432x288 with 1 Axes>"
      ]
     },
     "metadata": {
      "needs_background": "light"
     },
     "output_type": "display_data"
    }
   ],
   "source": [
    "f,ax = plt.subplots()\n",
    "ax.plot(range(1,30),steps,label='$T_n$')\n",
    "ax.set_xlabel('$n$')\n",
    "ax.set_ylabel('Steps')\n",
    "ax.set_title('Complexity of solving the Tower of Hanoi')\n",
    "ax.legend(loc=0);"
   ]
  },
  {
   "cell_type": "markdown",
   "metadata": {},
   "source": [
    "### Straightforward Complexity Analysis\n",
    "To analyze the number of steps it would take:\n",
    "\\begin{align*}\n",
    "    \\text{to move $n$ disks }T_n &= 2 T_{n-1} + 1\\\\\n",
    "    &= 2(2T_{n-2}+1) +1 = 2^{2} T_{n-2} + (1+2)\\\\\n",
    "    &= 2^{2}(2T_{n-3}+1) +(1+2) = 2^{3} T_{n-3} + (1+2+4)\\\\\n",
    "    &= \\vdots \\qquad \\vdots \\qquad \\vdots\\\\\n",
    "    &= 2^{i-1}(2T_{n-i}+1) +(1+2+ \\cdots + 2^{i-2}) = 2^{i} T_{n-i} + \\sum_{j=0}^{i-1} 2^j\\\\\n",
    "    &= 2^{n-1} T_{1} + \\sum_{j=0}^{n-2} 2^j\\\\\n",
    "    &= 2^{n-1} + \\sum_{j=0}^{n-2} 2^j\\\\\n",
    "    &= \\sum_{j=0}^{n-1} 2^j = \\boxed{2^n -1}\n",
    "\\end{align*}\n",
    "Then, from our direct proof, we know that $$T(n) = \\Theta(2^n)$$"
   ]
  },
  {
   "cell_type": "code",
   "execution_count": 46,
   "metadata": {},
   "outputs": [
    {
     "data": {
      "text/plain": [
       "584942417355.072"
      ]
     },
     "execution_count": 46,
     "metadata": {},
     "output_type": "execute_result"
    }
   ],
   "source": [
    "total_seconds = 2**(64)-1\n",
    "time_yrs = total_seconds /60 /60 /24 /365\n",
    "time_yrs"
   ]
  },
  {
   "cell_type": "markdown",
   "metadata": {},
   "source": [
    "### Complexity Analysis using Recursion Tree\n",
    "<img src=\"./images/hanoi.svg\">"
   ]
  },
  {
   "cell_type": "markdown",
   "metadata": {},
   "source": [
    "## References and Further Readings\n",
    "- Introduction to Algorithms 3rd Edition [CLRS]\n",
    "    - Ch 4 for Divide and Conquer along with its related Complexity Analysis\n",
    "    \n",
    "#### <small>image source: wikipedia</small>"
   ]
  }
 ],
 "metadata": {
  "kernelspec": {
   "display_name": "Python 3",
   "language": "python",
   "name": "python3"
  },
  "language_info": {
   "codemirror_mode": {
    "name": "ipython",
    "version": 3
   },
   "file_extension": ".py",
   "mimetype": "text/x-python",
   "name": "python",
   "nbconvert_exporter": "python",
   "pygments_lexer": "ipython3",
   "version": "3.8.3"
  }
 },
 "nbformat": 4,
 "nbformat_minor": 1
}
