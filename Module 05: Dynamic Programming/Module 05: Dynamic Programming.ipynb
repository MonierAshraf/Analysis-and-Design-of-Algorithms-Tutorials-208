{
 "cells": [
  {
   "cell_type": "markdown",
   "metadata": {},
   "source": [
    "# Module 05: Dynamic Programming"
   ]
  },
  {
   "cell_type": "markdown",
   "metadata": {},
   "source": [
    "CSCI304: Analysis and Design of Algorithms<br>\n",
    "Nile University<br>\n",
    "Ammar Sherif<br>\n",
    "Github Repo: [Analysis-and-Design-of-Algorithms-Tutorials](https://github.com/ammarSherif/Analysis-and-Design-of-Algorithms-Tutorials)"
   ]
  },
  {
   "cell_type": "markdown",
   "metadata": {},
   "source": [
    "## Review\n",
    "- Empirical Analysis\n",
    "- Correctness Proofs and Complexity Analysis\n",
    "- Graph Algorithms\n",
    "- Divide-and-Conquer Paradigm "
   ]
  },
  {
   "cell_type": "markdown",
   "metadata": {},
   "source": [
    "## Outline\n",
    "- [Dynamic Programming](#Dynamic-Programming)\n",
    "    - [Problem](#Problem)\n",
    "    - [Top-Down DP + Memoization](#Top-Down-DP-+-Memoization)\n",
    "        - Theoretical Analysis\n",
    "    - [Bottom-Up DP](#Bottom-Up-DP)\n",
    "        - Theoretical Analysis\n",
    "    - [Fibonacci Empirical Analysis](#Fibonacci-Empirical-Analysis)\n",
    "- [Student Transportation Expenses](#Student-Transportation-Expenses)\n",
    "    - [Solution Steps](#Solution-Steps)\n",
    "    - [Recursive Solution](#Recursive-Solution)\n",
    "        - [Forward Approach](#Recursive-case-1)\n",
    "        - [Backward Approach](#Recursive-case-2)\n",
    "        - [Mid-Point Approach](#Recursive-case-3)\n",
    "        - Implementation\n",
    "        - [Theoretical Analysis](#Recursive-Theoretical-Analysis)\n",
    "        - [Empirical Analysis](#Recursive-Empirical-Analysis)\n",
    "    - [Dynamic Programming Solution](#Dynamic-Programming-Solution)\n",
    "        - [Top-Down DP](#Top-Down)\n",
    "        - [Bottom-Up DP](#Bottom-Up)\n",
    "    - [Empirical Analysis](#Empirical-Analysis)\n",
    "- [References and Further Readings](#References-and-Further-Readings)"
   ]
  },
  {
   "cell_type": "markdown",
   "metadata": {},
   "source": [
    "## Dynamic Programming\n",
    "Regardless of its name, the idea behind *Dynamic Programming (DP)* is pretty simple and emerging from the Divide and Conquer paradigm, and it is used efficiently in many **optimization problems**. As we mentioned in the previous lab, the Divide and Conquer tries to split the main problem into **smaller sub-problems** of the same type. Therefore, we mentioned a common properties of the problems that could be solved using Divide and Conquer:\n",
    "- The problem could be divided into smaller problems of the *same type*\n",
    "- We can solve these smaller problems at a particular level; otherwise, we would divide forever.\n",
    "- Given the solution of these smaller problems, we could combine them to provide the solution of the bigger problem\n",
    "\n",
    "### Problem\n",
    "Sometimes, when using recursion, a particular subproblems might be solved more than once. (With blind recursion, repeated work costs a lot of time.) To illustrate this, we use the problem of computing the Fibonacci Numbers in Lab 02.\n",
    "#### Fibonacci Numbers\n",
    "We are required to design an algorithm to compute the $n^{th}$ fibonacci number. It is defined as follows:\n",
    "\n",
    "$$\n",
    "F_n = \n",
    "\\begin{cases}\n",
    "0, & n=0\\\\\n",
    "1, & n=1\\\\\n",
    "F_{n-1} + F_{n-2}, & n \\geq 2\n",
    "\\end{cases}\n",
    "$$\n",
    "The solution is as follows:"
   ]
  },
  {
   "cell_type": "code",
   "execution_count": 1,
   "metadata": {},
   "outputs": [],
   "source": [
    "def fibonacci(n):\n",
    "    \"\"\"\n",
    "    computes the nth fibonacci number\n",
    "    ============================================================================\n",
    "    Inputs:\n",
    "    - n: represnts the index of the nth value in the sequence\n",
    "    ----------------------------------------------------------------------------\n",
    "    Outputs \n",
    "    - the value of the nth fibonacci number\n",
    "    ============================================================================\n",
    "    \"\"\"\n",
    "    # --------------------------------------------------------------------------\n",
    "    # Base cases\n",
    "    # --------------------------------------------------------------------------\n",
    "    if n == 0:\n",
    "        return 0\n",
    "    elif n == 1:\n",
    "        return 1\n",
    "    # --------------------------------------------------------------------------\n",
    "    # Recursive case\n",
    "    # --------------------------------------------------------------------------\n",
    "    else:\n",
    "        return fibonacci(n-1) + fibonacci(n-2)"
   ]
  },
  {
   "cell_type": "code",
   "execution_count": null,
   "metadata": {},
   "outputs": [],
   "source": [
    "# ==============================================================================\n",
    "# Try some inputs while  increasing the value, and notice  how much it  takes to\n",
    "# compute the value [1, 10, 15, 20, 25, 30, 35, 40, 45?]\n",
    "# ==============================================================================\n",
    "fibonacci(40)\n",
    "# ==============================================================================\n",
    "# What is the 100th fibonacci?\n",
    "# =============================================================================="
   ]
  },
  {
   "cell_type": "markdown",
   "metadata": {},
   "source": [
    "#### Theoretical Analysis\n",
    "First, we analyze the original complexity of the pure recursive aproach:\n",
    "\\begin{align*}\n",
    "T(n) &= T(n-1) + T(n-2) + \\Theta(1)\\\\\n",
    "     &\\geq 2T(n-2) + \\Theta(1)\\\\\n",
    "     &= \\Omega(2^{n/2})\\\\\n",
    "\\end{align*}"
   ]
  },
  {
   "cell_type": "markdown",
   "metadata": {},
   "source": [
    "If we are expanding our recurrence relation, required, to compute $F_n$, as in the below figure, we notice lots of repeated work.\n",
    "<center><img src=\"./images/fib_recursion.svg\" width=\"50%\"></center>"
   ]
  },
  {
   "cell_type": "markdown",
   "metadata": {},
   "source": [
    "Therefore, Dynamic Programming aims to compute this \"**repeated work**\" only once. The convenient problems for DP are those that have the **optimal substructure** property&mdash;that is, optimal, solutions to a problem includes optimal solutions to sub-problems. In that case, DP solves the problem through two different approaches in Dynamic Programming:\n",
    "\n",
    "- Top-Down approach + Memoization\n",
    "- Bottom-Up"
   ]
  },
  {
   "cell_type": "markdown",
   "metadata": {},
   "source": [
    "### Top-Down DP + Memoization\n",
    "This approach has an intuitive solution to the problem by using **recursion**, but along with storing the solutions of each sub-problem; therefore, it would only be computed at the first time&mdash;and stored in some structure; any further call to the same sub-problem would be simply retrieved from our stored solutions. This technique is called **Memoization**, storing the solutions of the sub-problems for **future use**."
   ]
  },
  {
   "cell_type": "markdown",
   "metadata": {},
   "source": [
    "#### Steps for Top-Down DP from Recursion\n",
    "Given you have have a recursive approach, it is kind of straigtforward to modify it to **Top Down DP** approach. Just follow the below steps:\n",
    "\n",
    "1. Add a new argument to the recursion, `memo`<br>it should be shared accross all the calls, so you need to initialize it once and pass it to each recursion\n",
    "2. Before anything in the previous recursion, add a **condition to check whether the problem is already solved in `memo`** or not; if yes, return the value directly.\n",
    "3. Before every single `return` statement, store the value in `memo` before the return.\n",
    "\n",
    "After these steps, you will have a memoized top down DP function that solves the algorithm.\n",
    "\n",
    "---\n",
    "We do these steps below:"
   ]
  },
  {
   "cell_type": "code",
   "execution_count": 2,
   "metadata": {},
   "outputs": [],
   "source": [
    "# ==============================================================================\n",
    "# Step 1: add the memo as an argument\n",
    "# ==============================================================================\n",
    "def fibonacci_top_down(n, memo = None):\n",
    "    \"\"\"\n",
    "    computes the nth fibonacci number using Top-Down approach with a memo\n",
    "    ============================================================================\n",
    "    Inputs:\n",
    "    -    n: represnts the index of the nth value in the sequence\n",
    "    - memo: holds the solutions to the already solved sub-problems\n",
    "    ----------------------------------------------------------------------------\n",
    "    Outputs: \n",
    "    - the value of the nth fibonacci number\n",
    "    ============================================================================\n",
    "    \"\"\"\n",
    "    # --------------------------------------------------------------------------\n",
    "    # If the memo is not initialized, initialize it first to be a dictionary\n",
    "    # --------------------------------------------------------------------------\n",
    "    if memo is None:\n",
    "        memo = {}\n",
    "    # --------------------------------------------------------------------------\n",
    "    # Step 2: check whether the problem is already solved.\n",
    "    # This sub-problem has already been solved; return the solution\n",
    "    # --------------------------------------------------------------------------\n",
    "    if n in memo:\n",
    "        return memo[n]\n",
    "    \n",
    "    # --------------------------------------------------------------------------\n",
    "    # Otherwise, solve the sub-problem and store it.\n",
    "    # --------------------------------------------------------------------------\n",
    "    elif n == 0:\n",
    "        # ----------------------------------------------------------------------\n",
    "        # Step 3: store the value in the  memo before every single return state-\n",
    "        #         ment\n",
    "        # ----------------------------------------------------------------------\n",
    "        memo[0] = 0\n",
    "        return 0\n",
    "    elif n == 1:\n",
    "        # ----------------------------------------------------------------------\n",
    "        # Step 3: store the value in the  memo before every single return state-\n",
    "        #         ment\n",
    "        # ----------------------------------------------------------------------\n",
    "        memo[1] = 1\n",
    "        return 1\n",
    "    else:\n",
    "        # ----------------------------------------------------------------------\n",
    "        # Step 3: store the value in the  memo before every single return state-\n",
    "        #         ment\n",
    "        # ----------------------------------------------------------------------\n",
    "        memo[n] = fibonacci_top_down(n-1,memo) + fibonacci_top_down(n-2,memo)\n",
    "        return memo[n]"
   ]
  },
  {
   "cell_type": "code",
   "execution_count": null,
   "metadata": {},
   "outputs": [],
   "source": [
    "fibonacci_top_down(40)"
   ]
  },
  {
   "cell_type": "markdown",
   "metadata": {},
   "source": [
    "#### Theoretical Analysis\n",
    "As we see, using the top-down approach is the same as the recursive approach; nevertheless using a *memo* enhances the performance with a cost of some storage. We notice that using this approach **solves each sub problem only once**. Therefore, we know the complexity of this approach is\n",
    "\\begin{align*}\n",
    "    T_{TDown}(n) &= \\boxed{\\Theta\\big( \\text{#distinct sub-problems}\\big) \\times \\Theta\\big(\\text{work per each sub-problem, single call, without recursion} \\big)}\\\\\n",
    "    &= \\Theta(n) \\times \\Theta(1)\\\\\n",
    "    &= \\boxed{\\Theta(n)}\n",
    "\\end{align*}\n",
    "\n",
    "Nevertheless, in DP, we used extra storage to achieve this enhancement in performacne; that is $\\Theta(n)$. In general, the **space complexity** in Dynamic Programming is $$\\Theta\\big(\\text{#distinct sub-problems}\\big)$$"
   ]
  },
  {
   "cell_type": "markdown",
   "metadata": {},
   "source": [
    "### Bottom-Up DP\n",
    "We notice that, to compute $F_n$, we must first compute $F_k \\ \\forall k < n$ . Therefore, in the Bottom-Up approach, we solve the problems _only **after**_ we solve all the **required sub-problems**. In other words, we solve the sub-problems after doing a topological sort based on the sub-problem dependency. This approach has a **better** practical performance than the Top-Down approach because it **eliminates** the recursion. To illustrate it, we go back to our problem:\n",
    "\n",
    "- To compute $F_n$, we need to compute $F_{n-1}$ and $F_{n-2}$\n",
    "- To compute $F_{n-1}$, we need to compute $F_{n-2}$ and $F_{n-3}$\n",
    "- This continues until we reach\n",
    "- To compute $F_{2}$, we need to compute $F_{1}$ and $F_{0}$\n",
    "- $F_1 = 1$ and $F_0 = 0$\n",
    "\n",
    "Therefore, we solve from bottom-up; that is to solve the basic primitive sub-problems that has no dependency first. Then, we proceed towards more complex problems. In our case, Fibonacci, we can easily compute $$F_2 \\implies F_3 \\implies \\cdots \\implies F_n$$\n",
    "\n",
    "Notice, in general, we also use a space to store the solutions of each sub-problem to be easily retrieved when needed."
   ]
  },
  {
   "cell_type": "markdown",
   "metadata": {},
   "source": [
    "#### Steps for DP Bottom-Up\n",
    "\n",
    "1. Sort the sub-problems based on their dependency\n",
    "    - You can do this analytically like what we have done above\n",
    "    - Sometimes, you might do it empirically; we give an example below\n",
    "2. Within the DP Bottom-Up function create a memo, and initialize the base case values\n",
    "3. Create a loop that loops according to the sorted dependency\n",
    "4. Just write down the recursive equation using values in `memo` instead of recursive calls\n",
    "    1. Copy the code of the recursive case and paste it into the loop\n",
    "    2. Change every recursive call to an access of memo: like `memo[k]` instead of `call(k)`\n",
    "    3. Change the return statement to be an assignment of `memo[i]` where `i` is the loop variable\n",
    "\n",
    "\n",
    "##### Steps for empirical investigation of task dependency\n",
    "- Within the top-down DP function, print the problem being solved when not solved in memo\n",
    "\n",
    "Check below"
   ]
  },
  {
   "cell_type": "code",
   "execution_count": 3,
   "metadata": {},
   "outputs": [],
   "source": [
    "# ==============================================================================\n",
    "# Here, we investigate the task dependencies\n",
    "# ==============================================================================\n",
    "def fibonacci_task_dependency(n, memo = None):\n",
    "    \"\"\"\n",
    "    computes the nth fibonacci number using Top-Down approach with a memo  while\n",
    "    printing the sequence of problems according to their dependency order\n",
    "    ============================================================================\n",
    "    Inputs:\n",
    "    -    n: represnts the index of the nth value in the sequence\n",
    "    - memo: holds the solutions to the already solved sub-problems\n",
    "    ----------------------------------------------------------------------------\n",
    "    Outputs: \n",
    "    - the value of the nth fibonacci number\n",
    "    ============================================================================\n",
    "    \"\"\"\n",
    "    # --------------------------------------------------------------------------\n",
    "    # If the memo is not initialized, initialize it first to be a dictionary\n",
    "    # --------------------------------------------------------------------------\n",
    "    if memo is None:\n",
    "        memo = {}\n",
    "    # --------------------------------------------------------------------------\n",
    "    # check whether the problem is already solved.\n",
    "    # This sub-problem has already been solved; return the solution\n",
    "    # --------------------------------------------------------------------------\n",
    "    if n in memo:\n",
    "        return memo[n]\n",
    "    \n",
    "    # ==========================================================================\n",
    "    # This sub-problem has not been solved before, so print it to know its order\n",
    "    # ==========================================================================\n",
    "    print(n)\n",
    "\n",
    "    # --------------------------------------------------------------------------\n",
    "    # Otherwise, solve the sub-problem and store it.\n",
    "    # --------------------------------------------------------------------------\n",
    "    if n == 0:\n",
    "        memo[0] = 0\n",
    "        return 0\n",
    "    elif n == 1:\n",
    "        memo[1] = 1\n",
    "        return 1\n",
    "    else:\n",
    "        memo[n] = fibonacci_task_dependency(n-1,memo)+ \\\n",
    "                  fibonacci_task_dependency(n-2,memo)\n",
    "        return memo[n]"
   ]
  },
  {
   "cell_type": "code",
   "execution_count": null,
   "metadata": {},
   "outputs": [],
   "source": [
    "v = fibonacci_task_dependency(10)"
   ]
  },
  {
   "cell_type": "code",
   "execution_count": null,
   "metadata": {},
   "outputs": [],
   "source": [
    "v = fibonacci_task_dependency(5)"
   ]
  },
  {
   "cell_type": "markdown",
   "metadata": {},
   "source": [
    "As we can see from our empirical investigation of the sub-problems. $10 \\implies 9 \\implies \\cdots \\implies 1 \\implies 0$ This is the dependecy of the sub-problems, so we go bottom-up that is\n",
    "\n",
    "$$\\boxed{0 \\implies 1 \\implies \\cdots \\implies n-1 \\implies n}$$"
   ]
  },
  {
   "cell_type": "code",
   "execution_count": 4,
   "metadata": {},
   "outputs": [],
   "source": [
    "def fibonacci_bottom_up(n):\n",
    "    \"\"\"\n",
    "    computes the nth fibonacci number using Bottom-Up DP approach\n",
    "    ============================================================================\n",
    "    Inputs:\n",
    "    -    n: represnts the index of the nth value in the sequence\n",
    "    ----------------------------------------------------------------------------\n",
    "    Outputs: \n",
    "    - the value of the nth fibonacci number\n",
    "    ============================================================================\n",
    "    \"\"\"\n",
    "    # ==========================================================================\n",
    "    # Step 2: define the memo, and initialize the base  case values; this is the\n",
    "    #         same as the recursive base case\n",
    "    # ==========================================================================\n",
    "    # define the space to store our solutions\n",
    "    # --------------------------------------------------------------------------\n",
    "    memo = {}\n",
    "    # --------------------------------------------------------------------------\n",
    "    # start with sub-problems that has no dependencies\n",
    "    # --------------------------------------------------------------------------\n",
    "    memo[0] = 0\n",
    "    memo[1] = 1\n",
    "    \n",
    "    # ==========================================================================\n",
    "    # Step 3: create a loop that loops over the sub-problems after the base case\n",
    "    #         according to the sub-problem dependecy in Step 1.\n",
    "    # --------------------------------------------------------------------------\n",
    "    # start solving more complex problems until solving the original problem\n",
    "    # ==========================================================================\n",
    "    for i in range(2,n+1):\n",
    "        # ======================================================================\n",
    "        # Step 4: write down the recurrence equation computing memo[i] using the\n",
    "        #         previously computed values.\n",
    "        # ----------------------------------------------------------------------\n",
    "        # Our recurrence is f(i) = f(i-1) + f(i-2). Because, f(i)  is stored  in\n",
    "        # memo[i], so we just write down the same equation.\n",
    "        # ======================================================================\n",
    "        memo[i] = memo[i-1] + memo[i-2]\n",
    "    # ==========================================================================\n",
    "    # return the solution to the problem the last value computed in memo\n",
    "    # ==========================================================================\n",
    "    return memo[n]"
   ]
  },
  {
   "cell_type": "code",
   "execution_count": null,
   "metadata": {},
   "outputs": [],
   "source": [
    "# ==============================================================================\n",
    "# Try very large values like 2000, 3000, ..., up to 100K, 500K, etc.\n",
    "# ------------------------------------------------------------------------------\n",
    "# Could you notice the enhancement in performance?\n",
    "# ==============================================================================\n",
    "fibonacci_bottom_up(2000)"
   ]
  },
  {
   "cell_type": "markdown",
   "metadata": {},
   "source": [
    "#### Theoretical Analysis\n",
    "Because there is no longer recursion in Bottom-Up approach, the complexity becomes easier as any iterative algorithm. In our case,\n",
    "$$\\boxed{T_{BUp}(n) = \\Theta(n)}$$\n",
    "\n",
    "Also, the **space complexity** is the same $$\\Theta(n)$$"
   ]
  },
  {
   "cell_type": "markdown",
   "metadata": {},
   "source": [
    "<div class=\"alert alert-block alert-info\">\n",
    "<b>Tip:</b> The bottom-up allow us to do further enhancement in terms of storage. We notice here that we <b>only need 3 variables</b>. I mean we do not really need the values of 0 and 1 once we computed the value of 2. We never need their values after that. Therefore, we adjust our bottom-up algorithm to use only three variables as below. Think of them as <b>pointers</b> moving through the values being computed.\n",
    "</div>"
   ]
  },
  {
   "cell_type": "code",
   "execution_count": 5,
   "metadata": {},
   "outputs": [],
   "source": [
    "def fibonacci_bottom_up_enhanced(n):\n",
    "    \"\"\"\n",
    "    computes the nth fibonacci number using Bottom-Up DP approach  while enhanc-\n",
    "    ing the storage\n",
    "    ============================================================================\n",
    "    Inputs:\n",
    "    -    n: represnts the index of the nth value in the sequence\n",
    "    ----------------------------------------------------------------------------\n",
    "    Outputs: \n",
    "    - the value of the nth fibonacci number\n",
    "    ============================================================================\n",
    "    \"\"\"\n",
    "    # ==========================================================================\n",
    "    # We no longer need a memo\n",
    "    # ==========================================================================\n",
    "    \n",
    "    # --------------------------------------------------------------------------\n",
    "    # handle the base cases\n",
    "    # --------------------------------------------------------------------------\n",
    "    if n == 0 or n == 1:\n",
    "        return n\n",
    "    # --------------------------------------------------------------------------\n",
    "    # Step 2: start with sub-problems that has no dependencies\n",
    "    # --------------------------------------------------------------------------\n",
    "    previous_value = 0\n",
    "    current_value = 1\n",
    "    \n",
    "    # ==========================================================================\n",
    "    # Step 3: create a loop that loops over the sub-problems after the base case\n",
    "    #         according to the sub-problem dependecy in Step 1.\n",
    "    # --------------------------------------------------------------------------\n",
    "    # start solving more complex problems until solving the original problem\n",
    "    # ==========================================================================\n",
    "    for i in range(2,n+1):\n",
    "        # ======================================================================\n",
    "        # Step 4: write down the  recurrence equation  computing  current_value,\n",
    "        #         representing the f(i), while the previous represents f(i-1)\n",
    "        # ----------------------------------------------------------------------\n",
    "        # Hence, given that k represents the kth iteration, as time, and c(k) is\n",
    "        # the value of current_value in the kth iteration, and p(k) is the value\n",
    "        # of previous_value in the kth iteration\n",
    "        # ----------------------------------------------------------------------\n",
    "        # Our recurrence is c(k) = c(k-1) + p(k-1) and p(k) = c(k-1).\n",
    "        # ======================================================================\n",
    "        current_value, previous_value = current_value + previous_value, \\\n",
    "                                        current_value\n",
    "    # ==========================================================================\n",
    "    # return the solution to the problem the last value computed in memo\n",
    "    # ==========================================================================\n",
    "    return current_value"
   ]
  },
  {
   "cell_type": "code",
   "execution_count": null,
   "metadata": {},
   "outputs": [],
   "source": [
    "# ==============================================================================\n",
    "# Try very large values like  2000,  3000, ..., up to  100K,  500K, up to 1M and\n",
    "# millions representing the vlaues being computed.  Could you  compare it to the\n",
    "# normal bottom-up?\n",
    "# ==============================================================================\n",
    "fibonacci_bottom_up_enhanced(1000000)"
   ]
  },
  {
   "cell_type": "markdown",
   "metadata": {},
   "source": [
    "### Fibonacci Empirical Analysis"
   ]
  },
  {
   "cell_type": "code",
   "execution_count": 6,
   "metadata": {},
   "outputs": [],
   "source": [
    "import matplotlib\n",
    "import matplotlib.pyplot as plt\n",
    "import time"
   ]
  },
  {
   "cell_type": "code",
   "execution_count": 7,
   "metadata": {},
   "outputs": [],
   "source": [
    "times1 = []\n",
    "times2 = []\n",
    "times3 = []\n",
    "times4 = []\n",
    "SIZE = 10\n",
    "for i in range(1,SIZE):\n",
    "    start_time = time.time()\n",
    "    fibonacci(i)\n",
    "    times1.append(time.time() - start_time)\n",
    "    start_time = time.time()\n",
    "    fibonacci_top_down(i)\n",
    "    times2.append(time.time() - start_time)\n",
    "    start_time = time.time()\n",
    "    fibonacci_bottom_up(i)\n",
    "    times3.append(time.time() - start_time)\n",
    "    fibonacci_bottom_up_enhanced(i)\n",
    "    times4.append(time.time() - start_time )"
   ]
  },
  {
   "cell_type": "code",
   "execution_count": 8,
   "metadata": {
    "scrolled": true
   },
   "outputs": [
    {
     "data": {
      "image/png": "[encoded data removed]",
      "text/plain": [
       "<Figure size 432x288 with 1 Axes>"
      ]
     },
     "metadata": {
      "needs_background": "light"
     },
     "output_type": "display_data"
    }
   ],
   "source": [
    "# the code to plot the curve\n",
    "\n",
    "f,ax = plt.subplots()\n",
    "ax.plot(range(1,SIZE),times1,label='Recursive')\n",
    "ax.plot(range(1,SIZE),times2,label='DP Top-Down')\n",
    "ax.plot(range(1,SIZE),times3,label='DP Bottom-Up')\n",
    "ax.plot(range(1,SIZE),times4,label='DP Bottom-Up Enhanced')\n",
    "ax.set_xlabel('$n$')\n",
    "ax.set_ylabel('Time: seconds')\n",
    "ax.set_title('Comparing the complexity of computing $F_n$')\n",
    "ax.legend(loc=0);"
   ]
  },
  {
   "cell_type": "markdown",
   "metadata": {},
   "source": [
    "## Student Transportation Expenses\n",
    "There are diverse students coming from different places. To reach the campus, each student must go through a sequence of stations. Assume within the $i^{th}$ **station** you can pay $x_i$ to **either** get to station $(i+1)$ or $(i+2)$. At CSCI-304, we want to help our colleagues **minimize their expenses** to campus&mdash;it would be great especially after COVID-19.\n",
    "\n",
    "**Input**: \n",
    "\\begin{align*}\n",
    "    \\texttt{expenses}:\\ &\\text{array listing }\\textbf{expenses}\\text{ to be paid at each station to move}\\\\\n",
    "    &\\text{its values are non-negatives, and it has at least 2 values}\n",
    "\\end{align*}\n",
    "**Output**:\n",
    "\\begin{align*}\n",
    "    \\texttt{m}:\\ &\\text{the expenses of transportation to the campus}\\\\\n",
    "    & \\text{Note the campus station is execluded}\n",
    "\\end{align*}\n",
    "**Example**:<br>\n",
    "Assume the below table contains the expenses per each station\n",
    "<table>\n",
    "    <tr>\n",
    "        <th><center>Station</center></th>\n",
    "        <th><center>Cost</center></th>\n",
    "    </tr>\n",
    "    <tr>\n",
    "        <td>1</td>\n",
    "        <td>1</td>\n",
    "    </tr>\n",
    "    <tr>\n",
    "        <td>2</td>\n",
    "        <td>3</td>\n",
    "    </tr>\n",
    "    <tr>\n",
    "        <td>3</td>\n",
    "        <td>6.5</td>\n",
    "    </tr>\n",
    "    <tr>\n",
    "        <td>4</td>\n",
    "        <td>2</td>\n",
    "    </tr>\n",
    "    <tr>\n",
    "        <td>5</td>\n",
    "        <td>2</td>\n",
    "    </tr>\n",
    "    <tr>\n",
    "        <td>6</td>\n",
    "        <td>8</td>\n",
    "    </tr>\n",
    "</table>\n",
    "\n",
    "minimum cost, $m$, is: $8$<br/>\n",
    "Explanation:\n",
    "1. pay £1 to move from station $1$ to $2$\n",
    "2. pay £3 to move from station $2$ to $4$\n",
    "3. pay £2 to move from station $4$ to $5$\n",
    "4. pay £2 to move from station $5$ to goal, two stations.\n",
    "\n",
    "Hence, minimum total payment: $1+3+2+2 = 8$"
   ]
  },
  {
   "cell_type": "markdown",
   "metadata": {},
   "source": [
    "### Solution Steps\n",
    "To help us in solving the problem, we think in steps:\n",
    "\n",
    "1. Think of a recursive solution, covered in [Module 3](https://github.com/ammarSherif/Analysis-and-Design-of-Algorithms-Tutorials/blob/main/Module%2003:%20Divide%20and%20Conquer/Module%2003:%20Divide%20and%20Conquer.ipynb) \n",
    "    1. What is the input size? Which characteristic of the input that we want to reduce through recursion?\n",
    "    2. (Base Case) at which size can we solve the problem directly? and how?\n",
    "    3. (Recursive Case) assume you can solve any problem whose size is above your base until $k-1$, and we want to solve at size $k$. How can we solve it?\n",
    "        1. **How to divide $k$?** [Hint: think of the alternatives of the very first step of the solution]\n",
    "        2. We assumed we could solve the sub-problems, so given the solution, **how to merge them?**\n",
    "2. Ask yourself, is there a need for DP? Is there repeated work? If your answer is yes, do the below:\n",
    "    1. convert your recursion into DP Top-Down\n",
    "    2. analyse the sub-task dependencies, and figure out how to sort them based on sub-task dependency\n",
    "    3. develop your bottom-up DP"
   ]
  },
  {
   "cell_type": "markdown",
   "metadata": {},
   "source": [
    "### Recursive Solution\n",
    "\n",
    "#### Input size:\n",
    "We will follow the steps, so what is the input size? it is the **number of stations**, $N$, so increasing the number of stations, number of array elements, makes the problem more difficult.\n",
    "\n",
    "#### Base case:\n",
    "When can we solve the problem directly? that is **at which number of stations** can we know the solution? We might come up with different scenarios like:\n",
    "- if there is a single station, $\\boxed{N = 1}$, the minimum cost is to pay the charge where we are in to get to the goal `m = e[0]`\n",
    "- if there are two stations left, $\\boxed{N = 2}$, we must pay the charge where we are in, and we can move directly to the goal, so `m = e[0]` as well"
   ]
  },
  {
   "cell_type": "markdown",
   "metadata": {},
   "source": [
    "#### Recursive case 1\n",
    "\n",
    "1. **How to divide?**<br>We should pay attention to this. Let's focus on the alternatives. What possibilities have we got? **We must pay the charge of the station where we are in** to move. Then, we have two possibilities\n",
    "    1. **move 1 station** forward: hence our size got reduced to be $N-1$, as we already one-station closer to the goal, so the new problem is how to get to the goal from station $i+1$\n",
    "    2. **move 2 stations** forward: hence our size got reduced to be $N-2$, as we already two-stations closer to the goal, so the new problem is how to get to the goal from station $i+2$\n",
    "2. **How to merge?**<br>We want the minimum right? Hence, we pick the minimum of the two alternatives\n",
    "\n",
    "Hence, our equation would be\n",
    "$$\\boxed{MF(i) = e_i + \\min\\left\\{MF(i+1),MF(i+2)\\right\\}}$$\n",
    "$$MF(i): \\ \\text{is the $\\textbf{minimum}$ cost to reach the goal from the } i^{th} \\text{ station}$$"
   ]
  },
  {
   "cell_type": "markdown",
   "metadata": {},
   "source": [
    "<div class=\"alert alert-block alert-danger\">\n",
    "<b>Caution:</b> as I mentioned, this recursive case is the design step, so before proceeding, I highly encourage you to <b>stop</b> here and think yourself <b>if you could get another solutions</b>. After all, the course philosophy is about thinking, so take your time coming up with your own solution. After that, you can feel free checking the below alternatives.\n",
    "</div>"
   ]
  },
  {
   "cell_type": "markdown",
   "metadata": {},
   "source": [
    "#### Recursive case 2\n",
    "What if we changed our thinking. Let's try thinking differently:\n",
    "1. **How to divide?**<br>Again we focus on the alternatives. To reach the goal, what possibilities have we got? How might we get to the goad? Well, we have two possibilities\n",
    "    1. from **1 station** backward: hence our size got reduced to be $N-1$, as we already one-station closer to the start. Hence, the new problem is how to get to the station $i-1$ with minimum cost.\n",
    "    2. from **2 stations** backward: hence our size got reduced to be $N-2$, as we already two-station closer to the start. Hence, the new problem is how to get to the station $i-2$ with minimum cost.\n",
    "2. **How to merge?**<br>Again, we want the minimum right? Hence, we pick the minimum of the two alternative routes, including the last charge of the station\n",
    "\n",
    "Hence, our equation would be\n",
    "$$\\boxed{MB(i) = \\min\\left\\{MB(i-1) + e_{i-1},MB(i-2) + e_{i-2}\\right\\}}$$\n",
    "$$MB(i): \\ \\text{is the $\\textbf{minimum}$ cost to reach the } (i+1)^{th} \\text{ station}$$"
   ]
  },
  {
   "cell_type": "markdown",
   "metadata": {},
   "source": [
    "<div class=\"alert alert-block alert-danger\">\n",
    "<b>Caution:</b> again take your time coming up with another solution. Can you do it? After that, you can feel free checking the below one.\n",
    "</div>"
   ]
  },
  {
   "cell_type": "markdown",
   "metadata": {},
   "source": [
    "#### Recursive case 3\n",
    "What if we changed our thinking, again. We previously thought what if we fix the goal or the start, so let's try changing everything:\n",
    "1. **How to divide?**<br>Again we focus on the alternatives. Let's think of the station in the middle, what alternatives could be there in the middle of the route? Well, because **we can never pass two stations at once**, we know either the station in the middle or the one after is included in our minimum path, right?\n",
    "    1. **mid station is included**: hence our size got reduced to be $N/2$, as the total min cost is the min to get to the mid and from the mid to the goal. Hence, the new problems is how to get to the station $\\frac{i+j}{2}$ with minimum cost from $i$, and how to get to the station $j$ from $\\frac{i+j}{2}$.\n",
    "    2. **mid+1 station is included**: hence our size got reduced to be $N/2$, as the total min cost is the min to get to the mid+1 and from the mid+1 to the goal. Hence, the new problems is how to get to the station $\\frac{i+j}{2}+1$ with minimum cost from $i$, and how to get to the station $j$ from $\\frac{i+j}{2}+1$.\n",
    "2. **How to merge?**<br>Again, we want the minimum right? Hence, we pick the minimum of the two alternative routes, including the last charge of the station\n",
    "\n",
    "Hence, our equation would be\n",
    "$$\\boxed{\n",
    "\\begin{align*}\n",
    "\tm &= \\left\\lfloor\\frac{i+j}{2}\\right\\rfloor\\\\\n",
    "\tM(i,j) &= \\min\\left\\{M\\left(i,m\\right) + M\\left(m,j\\right),M\\left(i,m+1\\right) + M\\left(m+1,j\\right)\\right\\}\\\\\n",
    "\\end{align*}\n",
    "}$$\n",
    "$$M(i,j): \\ \\text{is the $\\textbf{minimum}$ cost to reach the } (j+1)^{th} \\text{ station from the } i^{th} \\text{ station}$$"
   ]
  },
  {
   "cell_type": "markdown",
   "metadata": {},
   "source": [
    "<div class=\"alert alert-block alert-warning\">\n",
    "<b>Author Comment:</b> I do not really know who is reading this and when, so I do not really know what do you think about this. I just cannot hold my feelings about <i>how funny and exciting</i> this is. Just think about it, who could ever think that these three different equations are the same: computing the same value which is the minimum cost. For me, this is <b>beautiful</b> as well as <b>surprising</b> if I wanted to summerize it in words, even though I am the one who came up with them, so I hope you can enjoy it yourself\n",
    "</div>"
   ]
  },
  {
   "cell_type": "markdown",
   "metadata": {},
   "source": [
    "#### Forward Recursive Implementation"
   ]
  },
  {
   "cell_type": "code",
   "execution_count": 9,
   "metadata": {},
   "outputs": [],
   "source": [
    "def min_expense_forward(𝚎𝚡𝚙𝚎𝚗𝚜𝚎𝚜, start=0):\n",
    "    \"\"\"\n",
    "    it returns the minimum costs to reach the goal station from the kth starting\n",
    "    station given the costs to move from each station in <𝚎𝚡𝚙𝚎𝚗𝚜𝚎𝚜>. \n",
    "    ============================================================================\n",
    "    Rules: after paying the expenses of a particular station, you can either: \n",
    "        - move 1 station  forward (next station)\n",
    "        - move 2 stations forward\n",
    "    This implements the recursive divide-and-conquer using the forward approach\n",
    "    ============================================================================\n",
    "    Inputs:\n",
    "    - 𝚎𝚡𝚙𝚎𝚗𝚜𝚎𝚜: the  list holding the expenses to move from the kth station; the\n",
    "                index k represents the kth station (stage)\n",
    "                its values are non-negatives, and it has at least 2 values\n",
    "    - start: the starting station we are in\n",
    "    ----------------------------------------------------------------------------\n",
    "    Output:\n",
    "    - m: the value of the minimum costs\n",
    "    ============================================================================\n",
    "    Example:\n",
    "    𝚎𝚡𝚙𝚎𝚗𝚜𝚎𝚜 = [1,2,5,1,2,8]\n",
    "    In that case: m = 6, as we should visit [0,1,3,4] with costs [1,2,1,2]\n",
    "    ============================================================================\n",
    "    \"\"\"\n",
    "    # ==========================================================================\n",
    "    # write down your base case\n",
    "    # --------------------------------------------------------------------------\n",
    "    # 1 or 2 stations\n",
    "    # ==========================================================================\n",
    "    if start == len(𝚎𝚡𝚙𝚎𝚗𝚜𝚎𝚜)-1 or start == len(𝚎𝚡𝚙𝚎𝚗𝚜𝚎𝚜)-2:\n",
    "        return 𝚎𝚡𝚙𝚎𝚗𝚜𝚎𝚜[start]\n",
    "    \n",
    "    # ==========================================================================\n",
    "    # Define your recursive case\n",
    "    # --------------------------------------------------------------------------\n",
    "    # pay the current charge and move either one or two stations forward\n",
    "    # ==========================================================================\n",
    "    return 𝚎𝚡𝚙𝚎𝚗𝚜𝚎𝚜[start] + min(min_expense_forward(𝚎𝚡𝚙𝚎𝚗𝚜𝚎𝚜,start+1),\n",
    "                                 min_expense_forward(𝚎𝚡𝚙𝚎𝚗𝚜𝚎𝚜,start+2))"
   ]
  },
  {
   "cell_type": "code",
   "execution_count": 10,
   "metadata": {},
   "outputs": [
    {
     "name": "stdout",
     "output_type": "stream",
     "text": [
      "min([1, 3, 6.5, 2, 2, 8]): 8 [True]\n",
      "min([1, 2, 5, 1, 2, 8]): 6 [True]\n",
      "min([1, 4, 5, 20, 5, 4, 1]): 12 [True]\n"
     ]
    }
   ],
   "source": [
    "# ==============================================================================\n",
    "# Let's check some test cases\n",
    "# ==============================================================================\n",
    "cost = [1,3,6.5,2,2,8]\n",
    "m = min_expense_forward(cost)\n",
    "print(f\"min({cost}): {m} [{m==8}]\")\n",
    "cost = [1,2,5,1,2,8]\n",
    "m = min_expense_forward(cost)\n",
    "print(f\"min({cost}): {m} [{m==6}]\")\n",
    "# ==============================================================================\n",
    "# Some might come up with greedy solution, so check vs this case: it should out-\n",
    "# put 12. [0,2,4,6] with costs [1,5,5,1]\n",
    "# ==============================================================================\n",
    "cost = [1,4,5,20,5,4,1]\n",
    "m = min_expense_forward(cost)\n",
    "print(f\"min({cost}): {m} [{m==12}]\")"
   ]
  },
  {
   "cell_type": "markdown",
   "metadata": {
    "tags": []
   },
   "source": [
    "#### Backward Recursive Implementation"
   ]
  },
  {
   "cell_type": "markdown",
   "metadata": {},
   "source": [
    "<div class=\"alert alert-block alert-info\">\n",
    "<b>Implementation Choice:</b> we know the first call of the backward implementation is len(expenses)-1. Given we cannot have such value as default value, as it depends on the other input, we abstract that argument by defining a wrapper function. I know this is an algorithms class, not a software engineering one, yet I love hiding unncessary arguments from users considering the perspective of good software. You might want to read about <b>software coupling and number of arguments</b> in terms of software engineering principles.\n",
    "</div>"
   ]
  },
  {
   "cell_type": "code",
   "execution_count": 11,
   "metadata": {},
   "outputs": [],
   "source": [
    "def min_expense_backward(𝚎𝚡𝚙𝚎𝚗𝚜𝚎𝚜):\n",
    "    \"\"\"\n",
    "    it  returns the minimum costs to reach the  goal  station given the costs to \n",
    "    move from each station in <𝚎𝚡𝚙𝚎𝚗𝚜𝚎𝚜>.\n",
    "    ============================================================================\n",
    "    Rules: after paying the expenses of a particular station, you can\n",
    "    either: \n",
    "        - move 1 station  forward (next station)\n",
    "        - move 2 stations forward\n",
    "    This implements the divide-and-conquer using the backward approach\n",
    "    ============================================================================\n",
    "    Inputs:\n",
    "    - 𝚎𝚡𝚙𝚎𝚗𝚜𝚎𝚜: the list holding the expenses to move from the  kth station; the\n",
    "                index k represents the kth station (stage)\n",
    "                its values are non-negatives, and it has at least 2 values\n",
    "    ----------------------------------------------------------------------------\n",
    "    Output:\n",
    "    - m: the value of the minimum costs\n",
    "    ============================================================================\n",
    "    Example:\n",
    "    𝚎𝚡𝚙𝚎𝚗𝚜𝚎𝚜 = [1,2,5,1,2,8]\n",
    "    In that case: m = 6, as we should visit [0,1,3,4] with costs [1,2,1,2]\n",
    "    ============================================================================\n",
    "    \"\"\"\n",
    "    return min_backward(𝚎𝚡𝚙𝚎𝚗𝚜𝚎𝚜, len(𝚎𝚡𝚙𝚎𝚗𝚜𝚎𝚜))"
   ]
  },
  {
   "cell_type": "code",
   "execution_count": 12,
   "metadata": {},
   "outputs": [],
   "source": [
    "def min_backward(𝚎𝚡𝚙𝚎𝚗𝚜𝚎𝚜, goal):\n",
    "    \"\"\"\n",
    "    it returns the minimum costs to reach  the <goal> station from  the starting\n",
    "    station given the costs to move from each station in <𝚎𝚡𝚙𝚎𝚗𝚜𝚎𝚜>. \n",
    "    ============================================================================\n",
    "    Rules: after paying the expenses of a particular station, you can either: \n",
    "        - move 1 station  forward (next station)\n",
    "        - move 2 stations forward\n",
    "    This implements the recursive divide-and-conquer using the backward approach\n",
    "    ============================================================================\n",
    "    Inputs:\n",
    "    - 𝚎𝚡𝚙𝚎𝚗𝚜𝚎𝚜: the list holding the expenses to move from  the kth station; the \n",
    "                index k represents the kth station (stage).\n",
    "                its values are non-negatives, and it has at least 2 values\n",
    "    - goal: index of the ending station; our goal is size of  <expenses> to  get \n",
    "                to our main goal\n",
    "    ----------------------------------------------------------------------------\n",
    "    Output:\n",
    "    - m: the value of the minimum costs\n",
    "    ============================================================================\n",
    "    \"\"\"\n",
    "    # ==========================================================================\n",
    "    # write down your base case\n",
    "    # --------------------------------------------------------------------------\n",
    "    # 1 or 2 stations [goal = 1 or 2]\n",
    "    # ==========================================================================\n",
    "    if goal == 1 or goal == 2:\n",
    "        return 𝚎𝚡𝚙𝚎𝚗𝚜𝚎𝚜[0]\n",
    "    \n",
    "    # ==========================================================================\n",
    "    # More than two stations goal >= 3: recursive case\n",
    "    # --------------------------------------------------------------------------\n",
    "    # either you got here from (goal-1) or (goal-2)\n",
    "    # ==========================================================================\n",
    "    return min(min_backward(𝚎𝚡𝚙𝚎𝚗𝚜𝚎𝚜, goal-1) + 𝚎𝚡𝚙𝚎𝚗𝚜𝚎𝚜[goal-1],\n",
    "               min_backward(𝚎𝚡𝚙𝚎𝚗𝚜𝚎𝚜, goal-2) + 𝚎𝚡𝚙𝚎𝚗𝚜𝚎𝚜[goal-2])"
   ]
  },
  {
   "cell_type": "code",
   "execution_count": 13,
   "metadata": {},
   "outputs": [
    {
     "name": "stdout",
     "output_type": "stream",
     "text": [
      "min([1, 3, 6.5, 2, 2, 8]): 8 [True]\n",
      "min([1, 2, 5, 1, 2, 8]): 6 [True]\n",
      "min([1, 4, 5, 20, 5, 4, 1]): 12 [True]\n"
     ]
    }
   ],
   "source": [
    "# ==============================================================================\n",
    "# Let's check some test cases\n",
    "# ==============================================================================\n",
    "cost = [1,3,6.5,2,2,8]\n",
    "m = min_expense_backward(cost)\n",
    "print(f\"min({cost}): {m} [{m==8}]\")\n",
    "cost = [1,2,5,1,2,8]\n",
    "m = min_expense_backward(cost)\n",
    "print(f\"min({cost}): {m} [{m==6}]\")\n",
    "# ==============================================================================\n",
    "# Some might come up with greedy solution, so check vs this case: it should out-\n",
    "# put 12. [0,2,4,6] with costs [1,5,5,1]\n",
    "# ==============================================================================\n",
    "cost = [1,4,5,20,5,4,1]\n",
    "m = min_expense_backward(cost)\n",
    "print(f\"min({cost}): {m} [{m==12}]\")"
   ]
  },
  {
   "cell_type": "markdown",
   "metadata": {
    "tags": []
   },
   "source": [
    "#### Mid Recursive Implementation"
   ]
  },
  {
   "cell_type": "code",
   "execution_count": 14,
   "metadata": {},
   "outputs": [],
   "source": [
    "def min_expense_mid(𝚎𝚡𝚙𝚎𝚗𝚜𝚎𝚜):\n",
    "    \"\"\"\n",
    "    it  returns the minimum costs to reach the  goal  station given the costs to \n",
    "    move from each station in <𝚎𝚡𝚙𝚎𝚗𝚜𝚎𝚜>.\n",
    "    ============================================================================\n",
    "    Rules: after paying the expenses of a particular station, you can\n",
    "    either: \n",
    "        - move 1 station  forward (next station)\n",
    "        - move 2 stations forward\n",
    "    This implements the divide-and-conquer using the mid approach\n",
    "    ============================================================================\n",
    "    Inputs:\n",
    "    - 𝚎𝚡𝚙𝚎𝚗𝚜𝚎𝚜: the list holding the expenses to move from the  kth station; the\n",
    "                index k represents the kth station (stage)\n",
    "                its values are non-negatives, and it has at least 2 values\n",
    "    ----------------------------------------------------------------------------\n",
    "    Output:\n",
    "    - m: the value of the minimum costs\n",
    "    ============================================================================\n",
    "    Example:\n",
    "    𝚎𝚡𝚙𝚎𝚗𝚜𝚎𝚜 = [1,2,5,1,2,8]\n",
    "    In that case: m = 6, as we should visit [0,1,3,4] with costs [1,2,1,2]\n",
    "    ============================================================================\n",
    "    \"\"\"\n",
    "    return min_mid(𝚎𝚡𝚙𝚎𝚗𝚜𝚎𝚜, 0, len(𝚎𝚡𝚙𝚎𝚗𝚜𝚎𝚜))"
   ]
  },
  {
   "cell_type": "code",
   "execution_count": 15,
   "metadata": {},
   "outputs": [],
   "source": [
    "def min_mid(𝚎𝚡𝚙𝚎𝚗𝚜𝚎𝚜, start, goal):\n",
    "    \"\"\"\n",
    "    it returns the minimum costs to reach  the <goal>  station from  the <start>\n",
    "    station given the costs to move from each station in <𝚎𝚡𝚙𝚎𝚗𝚜𝚎𝚜>. \n",
    "    ============================================================================\n",
    "    Rules: after paying the expenses of a particular station, you can either: \n",
    "        - move 1 station  forward (next station)\n",
    "        - move 2 stations forward\n",
    "    This implements the recursive divide-and-conquer using the mid approach\n",
    "    ============================================================================\n",
    "    Inputs:\n",
    "    - 𝚎𝚡𝚙𝚎𝚗𝚜𝚎𝚜: the list holding the expenses to move from  the kth station; the \n",
    "                index k represents the kth station (stage).\n",
    "                its values are non-negatives, and it has at least 2 values\n",
    "    - start: the starting station we are in\n",
    "    - goal: index of the ending station; our goal is size of  <expenses> to  get \n",
    "                to our main goal\n",
    "    ----------------------------------------------------------------------------\n",
    "    Output:\n",
    "    - m: the value of the minimum costs\n",
    "    ============================================================================\n",
    "    \"\"\"\n",
    "    # ==========================================================================\n",
    "    # write down your base case\n",
    "    # --------------------------------------------------------------------------\n",
    "    # 1 or 2 stations\n",
    "    # ==========================================================================\n",
    "    if (goal-start) == 1 or (goal-start) == 2:\n",
    "        return 𝚎𝚡𝚙𝚎𝚗𝚜𝚎𝚜[start]\n",
    "    \n",
    "    # ==========================================================================\n",
    "    # More than two stations >= 3: recursive case\n",
    "    # --------------------------------------------------------------------------\n",
    "    # either you can pass through mid or mid+1 stations\n",
    "    # ==========================================================================\n",
    "    mid = (start+goal)//2\n",
    "    \n",
    "    return min(min_mid(𝚎𝚡𝚙𝚎𝚗𝚜𝚎𝚜,start,mid) + min_mid(𝚎𝚡𝚙𝚎𝚗𝚜𝚎𝚜,mid,goal),\n",
    "               min_mid(𝚎𝚡𝚙𝚎𝚗𝚜𝚎𝚜,start,mid+1) + min_mid(𝚎𝚡𝚙𝚎𝚗𝚜𝚎𝚜,mid+1,goal))"
   ]
  },
  {
   "cell_type": "code",
   "execution_count": 16,
   "metadata": {},
   "outputs": [
    {
     "name": "stdout",
     "output_type": "stream",
     "text": [
      "min([1, 3, 6.5, 2, 2, 8]): 8 [True]\n",
      "min([1, 2, 5, 1, 2, 8]): 6 [True]\n",
      "min([1, 4, 5, 20, 5, 4, 1]): 12 [True]\n"
     ]
    }
   ],
   "source": [
    "# ==============================================================================\n",
    "# Let's check some test cases\n",
    "# ==============================================================================\n",
    "cost = [1,3,6.5,2,2,8]\n",
    "m = min_expense_mid(cost)\n",
    "print(f\"min({cost}): {m} [{m==8}]\")\n",
    "cost = [1,2,5,1,2,8]\n",
    "m = min_expense_mid(cost)\n",
    "print(f\"min({cost}): {m} [{m==6}]\")\n",
    "# ==============================================================================\n",
    "# Some might come up with greedy solution, so check vs this case: it should out-\n",
    "# put 12. [0,2,4,6] with costs [1,5,5,1]\n",
    "# ==============================================================================\n",
    "cost = [1,4,5,20,5,4,1]\n",
    "m = min_expense_mid(cost)\n",
    "print(f\"min({cost}): {m} [{m==12}]\")"
   ]
  },
  {
   "cell_type": "markdown",
   "metadata": {},
   "source": [
    "#### Recursive Theoretical Analysis\n",
    "1. Both forward and Backward:\n",
    "\\begin{align*}\n",
    "    T(n) &= T(n-1) + T(n-2) + \\Theta(1)\\\\\n",
    "    &= \\Omega(2^{n/2})\n",
    "\\end{align*}\n",
    "2. Mid-point recrusive:\n",
    "\\begin{align*}\n",
    "    T(n) &= 4T(n/2) + \\Theta(1)\\\\\n",
    "    &= \\boxed{\\Theta(n^{2})}\n",
    "\\end{align*}"
   ]
  },
  {
   "cell_type": "markdown",
   "metadata": {},
   "source": [
    "<div class=\"alert alert-block alert-info\">\n",
    "<b>Performance Enhancement:</b> have you noticed it? The algorithm performance got ehanced only with designing recursive differently like in mid-point case rather than the first two.\n",
    "</div>"
   ]
  },
  {
   "cell_type": "markdown",
   "metadata": {},
   "source": [
    "#### Recursive Empirical Analysis"
   ]
  },
  {
   "cell_type": "code",
   "execution_count": 17,
   "metadata": {},
   "outputs": [
    {
     "name": "stdout",
     "output_type": "stream",
     "text": [
      "Are all the results the same? True\n"
     ]
    }
   ],
   "source": [
    "# ==============================================================================\n",
    "# We will empirically evaluate the 3 procedures\n",
    "# ==============================================================================\n",
    "data = [1]\n",
    "# ------------------------------------------------------------------------------\n",
    "# List of 3 lists: we use each small sublist to record the times  of an approach\n",
    "# ------------------------------------------------------------------------------\n",
    "times = [[] for y in range(3)]\n",
    "# ------------------------------------------------------------------------------\n",
    "# Maximum number of stations\n",
    "# ------------------------------------------------------------------------------\n",
    "MAX_SIZE = 15\n",
    "same_flag = True\n",
    "for i in range(2,MAX_SIZE+1):\n",
    "    data.append(i)\n",
    "    start_time = time.time()\n",
    "    v1 = min_expense_forward(data)\n",
    "    times[0].append(time.time() - start_time)\n",
    "    start_time = time.time()\n",
    "    v2 = min_expense_backward(data)\n",
    "    times[1].append(time.time() - start_time)\n",
    "    start_time = time.time()\n",
    "    v3 = min_expense_mid(data)\n",
    "    times[2].append(time.time() - start_time)\n",
    "    \n",
    "    same_flag = same_flag and (v1==v2==v3)\n",
    "# ==============================================================================\n",
    "# Make sure all the results are the same\n",
    "# ==============================================================================\n",
    "print(f\"Are all the results the same? {same_flag}\")"
   ]
  },
  {
   "cell_type": "code",
   "execution_count": 18,
   "metadata": {},
   "outputs": [
    {
     "data": {
      "image/png": "[encoded data removed]",
      "text/plain": [
       "<Figure size 432x288 with 1 Axes>"
      ]
     },
     "metadata": {
      "needs_background": "light"
     },
     "output_type": "display_data"
    }
   ],
   "source": [
    "# ==============================================================================\n",
    "# Let's plot the results to see if really the mid-point is better\n",
    "# ==============================================================================\n",
    "f,ax = plt.subplots()\n",
    "ax.plot(range(2,MAX_SIZE+1),times[0],label='Recursive Forward')\n",
    "ax.plot(range(2,MAX_SIZE+1),times[1],label='Recursive Backward')\n",
    "ax.plot(range(2,MAX_SIZE+1),times[2],label='Recursive Mid-Point')\n",
    "ax.set_xlabel('$N$')\n",
    "ax.set_ylabel('Time: seconds')\n",
    "ax.set_title('Minimizing expenses')\n",
    "ax.legend(loc=0);"
   ]
  },
  {
   "cell_type": "markdown",
   "metadata": {},
   "source": [
    "### Dynamic Programming Solution\n",
    "\n",
    "Having completed the first step, we can proceed to Dynamic Programming. I will mainly work on a single approach, but you can do the same for the others. Therefore, let's work on the forward approach:\n",
    "$$\\boxed{MF(i) = e_i + \\min\\left(MF(i+1),MF(i+2)\\right)}$$\n",
    "\n",
    "Before doing anything, we must first make sure that there is repeated work done. We can verify this analytically:\n",
    "1. $MF(0) \\ \\text{ needs }\\ MF(1) \\land MF(2)$\n",
    "2. $MF(1) \\ \\text{ needs }\\ MF(2) \\land MF(3)$\n",
    "\n",
    "Hence, we can see that $MF(2)$ will be computed twice. Therefore, there is indeed **repeated work**. We can even verify this empirically, by adjusting our function and calling it like below:"
   ]
  },
  {
   "cell_type": "code",
   "execution_count": 19,
   "metadata": {},
   "outputs": [],
   "source": [
    "def min_expense_f_rw(𝚎𝚡𝚙𝚎𝚗𝚜𝚎𝚜, start=0):\n",
    "    \"\"\"\n",
    "    it returns the minimum costs to reach the goal station from the kth starting\n",
    "    station given the costs to move from each station in <𝚎𝚡𝚙𝚎𝚗𝚜𝚎𝚜>. \n",
    "    ============================================================================\n",
    "    Rules: after paying the expenses of a particular station, you can either: \n",
    "        - move 1 station  forward (next station)\n",
    "        - move 2 stations forward\n",
    "    This implements the recursive divide-and-conquer using the forward approach\n",
    "    ============================================================================\n",
    "    Inputs:\n",
    "    - 𝚎𝚡𝚙𝚎𝚗𝚜𝚎𝚜: the  list holding the expenses to move from the kth station; the\n",
    "                index k represents the kth station (stage)\n",
    "                its values are non-negatives, and it has at least 2 values\n",
    "    - start: the starting station we are in\n",
    "    ----------------------------------------------------------------------------\n",
    "    Output:\n",
    "    - m: the value of the minimum costs\n",
    "    ============================================================================\n",
    "    Example:\n",
    "    𝚎𝚡𝚙𝚎𝚗𝚜𝚎𝚜 = [1,2,5,1,2,8]\n",
    "    In that case: m = 6, as we should visit [0,1,3,4] with costs [1,2,1,2]\n",
    "    ============================================================================\n",
    "    \"\"\"\n",
    "    # ==========================================================================\n",
    "    # Let's see if the start value ever duplicates\n",
    "    # ==========================================================================\n",
    "    print(f\"sub-problem: {start}\")\n",
    "    # ==========================================================================\n",
    "    # write down your base case\n",
    "    # --------------------------------------------------------------------------\n",
    "    # 1 or 2 stations\n",
    "    # ==========================================================================\n",
    "    if start == len(𝚎𝚡𝚙𝚎𝚗𝚜𝚎𝚜)-1 or start == len(𝚎𝚡𝚙𝚎𝚗𝚜𝚎𝚜)-2:\n",
    "        return 𝚎𝚡𝚙𝚎𝚗𝚜𝚎𝚜[start]\n",
    "    \n",
    "    # ==========================================================================\n",
    "    # Define your recursive case\n",
    "    # --------------------------------------------------------------------------\n",
    "    # pay the current charge and move either one or two stations forward\n",
    "    # ==========================================================================\n",
    "    return 𝚎𝚡𝚙𝚎𝚗𝚜𝚎𝚜[start] + min(min_expense_f_rw(𝚎𝚡𝚙𝚎𝚗𝚜𝚎𝚜,start+1),\n",
    "                                 min_expense_f_rw(𝚎𝚡𝚙𝚎𝚗𝚜𝚎𝚜,start+2))"
   ]
  },
  {
   "cell_type": "code",
   "execution_count": 20,
   "metadata": {},
   "outputs": [
    {
     "name": "stdout",
     "output_type": "stream",
     "text": [
      "sub-problem: 0\n",
      "sub-problem: 1\n",
      "sub-problem: 2\n",
      "sub-problem: 3\n",
      "sub-problem: 4\n",
      "sub-problem: 5\n",
      "sub-problem: 4\n",
      "sub-problem: 3\n",
      "sub-problem: 4\n",
      "sub-problem: 5\n",
      "sub-problem: 2\n",
      "sub-problem: 3\n",
      "sub-problem: 4\n",
      "sub-problem: 5\n",
      "sub-problem: 4\n"
     ]
    }
   ],
   "source": [
    "# ==============================================================================\n",
    "# Let's see if the start value ever duplicates\n",
    "# ==============================================================================\n",
    "cost = [1,3,6.5,2,2,8]\n",
    "m = min_expense_f_rw(cost)\n",
    "# ==============================================================================\n",
    "# As you can see below, the sub-problems indeed duplicate.\n",
    "# =============================================================================="
   ]
  },
  {
   "cell_type": "markdown",
   "metadata": {},
   "source": [
    "#### Top-Down\n",
    "\n",
    "We just follow the previously mentioned [steps to convert the recursion into top-down](#Steps-for-Top-Down-DP-from-Recursion)."
   ]
  },
  {
   "cell_type": "code",
   "execution_count": 21,
   "metadata": {},
   "outputs": [],
   "source": [
    "def min_expense_f_td(𝚎𝚡𝚙𝚎𝚗𝚜𝚎𝚜, start=0, memo=None):\n",
    "    \"\"\"\n",
    "    it returns the minimum costs to reach the goal station from the kth starting\n",
    "    station given the costs to move from each station in <𝚎𝚡𝚙𝚎𝚗𝚜𝚎𝚜>. \n",
    "    ============================================================================\n",
    "    Rules: after paying the expenses of a particular station, you can either: \n",
    "        - move 1 station  forward (next station)\n",
    "        - move 2 stations forward\n",
    "    This implements the Top-Down DP using the forward approach\n",
    "    ============================================================================\n",
    "    Inputs:\n",
    "    - 𝚎𝚡𝚙𝚎𝚗𝚜𝚎𝚜: the  list holding the expenses to move from the kth station; the\n",
    "                index k represents the kth station (stage)\n",
    "                its values are non-negatives, and it has at least 2 values\n",
    "    -    start: the starting station we are in\n",
    "    -     memo: holds the solutions to the already solved sub-problems\n",
    "    ----------------------------------------------------------------------------\n",
    "    Output:\n",
    "    - m: the value of the minimum costs\n",
    "    ============================================================================\n",
    "    Example:\n",
    "    𝚎𝚡𝚙𝚎𝚗𝚜𝚎𝚜 = [1,2,5,1,2,8]\n",
    "    In that case: m = 6, as we should visit [0,1,3,4] with costs [1,2,1,2]\n",
    "    ============================================================================\n",
    "    \"\"\"\n",
    "    # ==========================================================================\n",
    "    # If the memo is not initialized, initialize it first to be a dictionary\n",
    "    # ==========================================================================\n",
    "    if memo is None:\n",
    "        memo = {}\n",
    "    # ==========================================================================\n",
    "    # Step 2: check whether the problem is already solved.\n",
    "    # This sub-problem has already been solved; return the solution\n",
    "    # ==========================================================================\n",
    "    if start in memo:\n",
    "        return memo[start]\n",
    "    \n",
    "    # ==========================================================================\n",
    "    # Otherwise, solve the sub-problem and store it.\n",
    "    # --------------------------------------------------------------------------\n",
    "    # We simply  store the  value returned  in  memo[start]  before every return\n",
    "    # statement\n",
    "    # ==========================================================================\n",
    "    \n",
    "    # ==========================================================================\n",
    "    # write down your base case\n",
    "    # --------------------------------------------------------------------------\n",
    "    # 1 or 2 stations\n",
    "    # ==========================================================================\n",
    "    if start == len(𝚎𝚡𝚙𝚎𝚗𝚜𝚎𝚜)-1 or start == len(𝚎𝚡𝚙𝚎𝚗𝚜𝚎𝚜)-2:\n",
    "        memo[start] = 𝚎𝚡𝚙𝚎𝚗𝚜𝚎𝚜[start]\n",
    "        return 𝚎𝚡𝚙𝚎𝚗𝚜𝚎𝚜[start]\n",
    "    \n",
    "    # ==========================================================================\n",
    "    # Define your recursive case\n",
    "    # --------------------------------------------------------------------------\n",
    "    # pay the current charge and move either one or two stations forward\n",
    "    # ==========================================================================\n",
    "    memo[start] = 𝚎𝚡𝚙𝚎𝚗𝚜𝚎𝚜[start] + min(min_expense_f_td(𝚎𝚡𝚙𝚎𝚗𝚜𝚎𝚜,start+1,memo),\n",
    "                                        min_expense_f_td(𝚎𝚡𝚙𝚎𝚗𝚜𝚎𝚜,start+2,memo))\n",
    "    return memo[start]"
   ]
  },
  {
   "cell_type": "code",
   "execution_count": 22,
   "metadata": {},
   "outputs": [
    {
     "name": "stdout",
     "output_type": "stream",
     "text": [
      "min([1, 3, 6.5, 2, 2, 8]): 8 [True]\n",
      "min([1, 2, 5, 1, 2, 8]): 6 [True]\n",
      "min([1, 4, 5, 20, 5, 4, 1]): 12 [True]\n"
     ]
    }
   ],
   "source": [
    "# ==============================================================================\n",
    "# Let's check some test cases\n",
    "# ==============================================================================\n",
    "cost = [1,3,6.5,2,2,8]\n",
    "m = min_expense_f_td(cost)\n",
    "print(f\"min({cost}): {m} [{m==8}]\")\n",
    "cost = [1,2,5,1,2,8]\n",
    "m = min_expense_f_td(cost)\n",
    "print(f\"min({cost}): {m} [{m==6}]\")\n",
    "# ==============================================================================\n",
    "# Some might come up with greedy solution, so check vs this case: it should out-\n",
    "# put 12. [0,2,4,6] with costs [1,5,5,1]\n",
    "# ==============================================================================\n",
    "cost = [1,4,5,20,5,4,1]\n",
    "m = min_expense_f_td(cost)\n",
    "print(f\"min({cost}): {m} [{m==12}]\")"
   ]
  },
  {
   "cell_type": "markdown",
   "metadata": {},
   "source": [
    "#### Bottom-Up\n",
    "\n",
    "We first investigate the sub-task dependencies empirically as below:"
   ]
  },
  {
   "cell_type": "code",
   "execution_count": 23,
   "metadata": {},
   "outputs": [],
   "source": [
    "def min_expense_f_dependencies(𝚎𝚡𝚙𝚎𝚗𝚜𝚎𝚜, start=0, memo=None):\n",
    "    \"\"\"\n",
    "    it returns the minimum costs to reach the goal station from the kth starting\n",
    "    station given the costs to move from each station in <𝚎𝚡𝚙𝚎𝚗𝚜𝚎𝚜>.  It is used\n",
    "    to check task dependencies as well.\n",
    "    ============================================================================\n",
    "    Rules: after paying the expenses of a particular station, you can either: \n",
    "        - move 1 station  forward (next station)\n",
    "        - move 2 stations forward\n",
    "    This implements the Top-Down DP using the forward approach\n",
    "    ============================================================================\n",
    "    Inputs:\n",
    "    - 𝚎𝚡𝚙𝚎𝚗𝚜𝚎𝚜: the  list holding the expenses to move from the kth station; the\n",
    "                index k represents the kth station (stage)\n",
    "                its values are non-negatives, and it has at least 2 values\n",
    "    -    start: the starting station we are in\n",
    "    -     memo: holds the solutions to the already solved sub-problems\n",
    "    ----------------------------------------------------------------------------\n",
    "    Output:\n",
    "    - m: the value of the minimum costs\n",
    "    ============================================================================\n",
    "    Example:\n",
    "    𝚎𝚡𝚙𝚎𝚗𝚜𝚎𝚜 = [1,2,5,1,2,8]\n",
    "    In that case: m = 6, as we should visit [0,1,3,4] with costs [1,2,1,2]\n",
    "    ============================================================================\n",
    "    \"\"\"\n",
    "    # --------------------------------------------------------------------------\n",
    "    # If the memo is not initialized, initialize it first to be a dictionary\n",
    "    # --------------------------------------------------------------------------\n",
    "    if memo is None:\n",
    "        memo = {}\n",
    "    # --------------------------------------------------------------------------\n",
    "    # Step 2: check whether the problem is already solved.\n",
    "    # This sub-problem has already been solved; return the solution\n",
    "    # --------------------------------------------------------------------------\n",
    "    if start in memo:\n",
    "        return memo[start]\n",
    "    \n",
    "    # ==========================================================================\n",
    "    # Print the sub-problem id\n",
    "    # ==========================================================================\n",
    "    print(f\"Try solving task: {start}\")\n",
    "    \n",
    "    # --------------------------------------------------------------------------\n",
    "    # Otherwise, solve the sub-problem and store it.\n",
    "    # --------------------------------------------------------------------------\n",
    "    # We simply  store the  value returned  in  memo[start]  before every return\n",
    "    # statement\n",
    "    # --------------------------------------------------------------------------\n",
    "    \n",
    "    # --------------------------------------------------------------------------\n",
    "    # write down your base case\n",
    "    # --------------------------------------------------------------------------\n",
    "    # 1 or 2 stations\n",
    "    # --------------------------------------------------------------------------\n",
    "    if start == len(𝚎𝚡𝚙𝚎𝚗𝚜𝚎𝚜)-1 or start == len(𝚎𝚡𝚙𝚎𝚗𝚜𝚎𝚜)-2:\n",
    "        memo[start] = 𝚎𝚡𝚙𝚎𝚗𝚜𝚎𝚜[start]\n",
    "        return 𝚎𝚡𝚙𝚎𝚗𝚜𝚎𝚜[start]\n",
    "    \n",
    "    # --------------------------------------------------------------------------\n",
    "    # Define your recursive case\n",
    "    # --------------------------------------------------------------------------\n",
    "    # pay the current charge and move either one or two stations forward\n",
    "    # --------------------------------------------------------------------------\n",
    "    v = min(min_expense_f_dependencies(𝚎𝚡𝚙𝚎𝚗𝚜𝚎𝚜,start+1,memo),\n",
    "            min_expense_f_dependencies(𝚎𝚡𝚙𝚎𝚗𝚜𝚎𝚜,start+2,memo))\n",
    "    memo[start] = 𝚎𝚡𝚙𝚎𝚗𝚜𝚎𝚜[start] + v\n",
    "    return memo[start]"
   ]
  },
  {
   "cell_type": "code",
   "execution_count": 24,
   "metadata": {},
   "outputs": [
    {
     "name": "stdout",
     "output_type": "stream",
     "text": [
      "With len = 6\n",
      "Try solving task: 0\n",
      "Try solving task: 1\n",
      "Try solving task: 2\n",
      "Try solving task: 3\n",
      "Try solving task: 4\n",
      "Try solving task: 5\n"
     ]
    }
   ],
   "source": [
    "# ==============================================================================\n",
    "# Let's check the dependencies\n",
    "# ==============================================================================\n",
    "cost = [1,3,6.5,2,2,8]\n",
    "print(f\"With len = {len(cost)}\")\n",
    "m = min_expense_f_dependencies(cost)"
   ]
  },
  {
   "cell_type": "markdown",
   "metadata": {},
   "source": [
    "As we can see, we simply loop from `len-1` to `0`. This can easily be checked theoretically, just expanding the recursion tree"
   ]
  },
  {
   "cell_type": "code",
   "execution_count": 25,
   "metadata": {},
   "outputs": [],
   "source": [
    "def min_expense_f_bu(𝚎𝚡𝚙𝚎𝚗𝚜𝚎𝚜):\n",
    "    \"\"\"\n",
    "    it returns the minimum costs to reach the goal station from the kth starting\n",
    "    station given the costs to move from each station in <𝚎𝚡𝚙𝚎𝚗𝚜𝚎𝚜>. \n",
    "    ============================================================================\n",
    "    Rules: after paying the expenses of a particular station, you can either: \n",
    "        - move 1 station  forward (next station)\n",
    "        - move 2 stations forward\n",
    "    This implements the Bottom-Up DP using the forward approach\n",
    "    ============================================================================\n",
    "    Inputs:\n",
    "    - 𝚎𝚡𝚙𝚎𝚗𝚜𝚎𝚜: the  list holding the expenses to move from the kth station; the\n",
    "                index k represents the kth station (stage)\n",
    "                its values are non-negatives, and it has at least 2 values\n",
    "    ----------------------------------------------------------------------------\n",
    "    Output:\n",
    "    - m: the value of the minimum costs\n",
    "    ============================================================================\n",
    "    Example:\n",
    "    𝚎𝚡𝚙𝚎𝚗𝚜𝚎𝚜 = [1,2,5,1,2,8]\n",
    "    In that case: m = 6, as we should visit [0,1,3,4] with costs [1,2,1,2]\n",
    "    ============================================================================\n",
    "    \"\"\"\n",
    "    # ==========================================================================\n",
    "    # initialize a memo\n",
    "    # ==========================================================================\n",
    "    memo = {}\n",
    "    # ==========================================================================\n",
    "    # write down your base case\n",
    "    # --------------------------------------------------------------------------\n",
    "    # 1 or 2 stations\n",
    "    # ==========================================================================\n",
    "    memo[len(𝚎𝚡𝚙𝚎𝚗𝚜𝚎𝚜)-1] = 𝚎𝚡𝚙𝚎𝚗𝚜𝚎𝚜[len(𝚎𝚡𝚙𝚎𝚗𝚜𝚎𝚜)-1]\n",
    "    memo[len(𝚎𝚡𝚙𝚎𝚗𝚜𝚎𝚜)-2] = 𝚎𝚡𝚙𝚎𝚗𝚜𝚎𝚜[len(𝚎𝚡𝚙𝚎𝚗𝚜𝚎𝚜)-2]\n",
    "    \n",
    "    # ==========================================================================\n",
    "    # Loop over the sub-tasks in order\n",
    "    # ==========================================================================\n",
    "    for start in range(len(𝚎𝚡𝚙𝚎𝚗𝚜𝚎𝚜)-3,-1,-1):\n",
    "        memo[start] = 𝚎𝚡𝚙𝚎𝚗𝚜𝚎𝚜[start] + min(memo[start+1],memo[start+2])\n",
    "    \n",
    "    # ==========================================================================\n",
    "    # return the value we would like to return memo[0]\n",
    "    # ==========================================================================\n",
    "    return memo[0]"
   ]
  },
  {
   "cell_type": "code",
   "execution_count": 26,
   "metadata": {},
   "outputs": [
    {
     "name": "stdout",
     "output_type": "stream",
     "text": [
      "min([1, 3, 6.5, 2, 2, 8]): 8 [True]\n",
      "min([1, 2, 5, 1, 2, 8]): 6 [True]\n",
      "min([1, 4, 5, 20, 5, 4, 1]): 12 [True]\n"
     ]
    }
   ],
   "source": [
    "# ==============================================================================\n",
    "# Let's check some test cases\n",
    "# ==============================================================================\n",
    "cost = [1,3,6.5,2,2,8]\n",
    "m = min_expense_f_bu(cost)\n",
    "print(f\"min({cost}): {m} [{m==8}]\")\n",
    "cost = [1,2,5,1,2,8]\n",
    "m = min_expense_f_bu(cost)\n",
    "print(f\"min({cost}): {m} [{m==6}]\")\n",
    "# ==============================================================================\n",
    "# Some might come up with greedy solution, so check vs this case: it should out-\n",
    "# put 12. [0,2,4,6] with costs [1,5,5,1]\n",
    "# ==============================================================================\n",
    "cost = [1,4,5,20,5,4,1]\n",
    "m = min_expense_f_bu(cost)\n",
    "print(f\"min({cost}): {m} [{m==12}]\")"
   ]
  },
  {
   "cell_type": "markdown",
   "metadata": {},
   "source": [
    "#### Theoretical Analysis\n",
    "\n",
    "**Time complexity**:\n",
    "\\begin{align*}\n",
    "    T_{TDown}(n) &= \\boxed{\\Theta\\big( \\text{#distinct sub-problems}\\big) \\times \\Theta\\big(\\text{work per each sub-problem, single call, without recursion} \\big)}\\\\\n",
    "    &= \\Theta(n) \\times \\Theta(1)\\\\\n",
    "    &= \\boxed{\\Theta(n)}\\\\\n",
    "    T_{BUp}(n) &= \\underbrace{\\boxed{\\Theta(n)}}_{\\text{A single loop}}\n",
    "\\end{align*}\n",
    "\n",
    "**Space complexity** in Dynamic Programming is $$\\Theta\\big(\\text{#distinct sub-problems}\\big) = \\Theta(n)$$"
   ]
  },
  {
   "cell_type": "markdown",
   "metadata": {},
   "source": [
    "#### Enhanced Bottom-Up\n",
    "\n",
    "Again, with Bottom-Up, we notice we only need two variables instead of $n$; then, our enhanced algorithm with a space complexity of $\\Theta(1)$. "
   ]
  },
  {
   "cell_type": "code",
   "execution_count": 27,
   "metadata": {},
   "outputs": [],
   "source": [
    "def min_expense_f_bu_en(𝚎𝚡𝚙𝚎𝚗𝚜𝚎𝚜):\n",
    "    \"\"\"\n",
    "    it returns the minimum costs to reach the goal station from the kth starting\n",
    "    station given the costs to move from each station in <𝚎𝚡𝚙𝚎𝚗𝚜𝚎𝚜>. \n",
    "    ============================================================================\n",
    "    Rules: after paying the expenses of a particular station, you can either: \n",
    "        - move 1 station  forward (next station)\n",
    "        - move 2 stations forward\n",
    "    This implements the Bottom-Up DP using the forward approach, but enhanced\n",
    "    ============================================================================\n",
    "    Inputs:\n",
    "    - 𝚎𝚡𝚙𝚎𝚗𝚜𝚎𝚜: the  list holding the expenses to move from the kth station; the\n",
    "                index k represents the kth station (stage)\n",
    "                its values are non-negatives, and it has at least 2 values\n",
    "    ----------------------------------------------------------------------------\n",
    "    Output:\n",
    "    - m: the value of the minimum costs\n",
    "    ============================================================================\n",
    "    Example:\n",
    "    𝚎𝚡𝚙𝚎𝚗𝚜𝚎𝚜 = [1,2,5,1,2,8]\n",
    "    In that case: m = 6, as we should visit [0,1,3,4] with costs [1,2,1,2]\n",
    "    ============================================================================\n",
    "    \"\"\"\n",
    "    # ==========================================================================\n",
    "    # State some easy cases to operate reasonably \n",
    "    # ==========================================================================\n",
    "    if len(𝚎𝚡𝚙𝚎𝚗𝚜𝚎𝚜) == 1 or len(𝚎𝚡𝚙𝚎𝚗𝚜𝚎𝚜) == 2:\n",
    "        return 𝚎𝚡𝚙𝚎𝚗𝚜𝚎𝚜[0]\n",
    "    # ==========================================================================\n",
    "    # write down your base case\n",
    "    # --------------------------------------------------------------------------\n",
    "    # 1 or 2 stations\n",
    "    # ==========================================================================\n",
    "    previous_value = 𝚎𝚡𝚙𝚎𝚗𝚜𝚎𝚜[len(𝚎𝚡𝚙𝚎𝚗𝚜𝚎𝚜)-1]\n",
    "    current_value = 𝚎𝚡𝚙𝚎𝚗𝚜𝚎𝚜[len(𝚎𝚡𝚙𝚎𝚗𝚜𝚎𝚜)-2]\n",
    "    \n",
    "    # ==========================================================================\n",
    "    # Loop over the sub-tasks in order\n",
    "    # ==========================================================================\n",
    "    for start in range(len(𝚎𝚡𝚙𝚎𝚗𝚜𝚎𝚜)-3,-1,-1):\n",
    "        min_val = min(previous_value,current_value)\n",
    "        current_value,previous_value = 𝚎𝚡𝚙𝚎𝚗𝚜𝚎𝚜[start]+min_val, current_value\n",
    "        \n",
    "    \n",
    "    # ==========================================================================\n",
    "    # return the value we would like to return current_value\n",
    "    # ==========================================================================\n",
    "    return current_value"
   ]
  },
  {
   "cell_type": "code",
   "execution_count": 28,
   "metadata": {},
   "outputs": [
    {
     "name": "stdout",
     "output_type": "stream",
     "text": [
      "min([1, 3, 6.5, 2, 2, 8]): 8 [True]\n",
      "min([1, 2, 5, 1, 2, 8]): 6 [True]\n",
      "min([1, 4, 5, 20, 5, 4, 1]): 12 [True]\n"
     ]
    }
   ],
   "source": [
    "# ==============================================================================\n",
    "# Let's check some test cases\n",
    "# ==============================================================================\n",
    "cost = [1,3,6.5,2,2,8]\n",
    "m = min_expense_f_bu_en(cost)\n",
    "print(f\"min({cost}): {m} [{m==8}]\")\n",
    "cost = [1,2,5,1,2,8]\n",
    "m = min_expense_f_bu_en(cost)\n",
    "print(f\"min({cost}): {m} [{m==6}]\")\n",
    "# ==============================================================================\n",
    "# Some might come up with greedy solution, so check vs this case: it should out-\n",
    "# put 12. [0,2,4,6] with costs [1,5,5,1]\n",
    "# ==============================================================================\n",
    "cost = [1,4,5,20,5,4,1]\n",
    "m = min_expense_f_bu_en(cost)\n",
    "print(f\"min({cost}): {m} [{m==12}]\")"
   ]
  },
  {
   "cell_type": "markdown",
   "metadata": {},
   "source": [
    "### Empirical Analysis\n",
    "We start with visualizing the complexity of our different approaches to solve the problem."
   ]
  },
  {
   "cell_type": "code",
   "execution_count": 29,
   "metadata": {},
   "outputs": [
    {
     "name": "stdout",
     "output_type": "stream",
     "text": [
      "Are all the results the same? True\n"
     ]
    }
   ],
   "source": [
    "# ==============================================================================\n",
    "# We will empirically evaluate the 6 procedures\n",
    "# ==============================================================================\n",
    "data = [1]\n",
    "# ------------------------------------------------------------------------------\n",
    "# List of 6 lists: we use each small sublist to record the times  of an approach\n",
    "# ------------------------------------------------------------------------------\n",
    "times = [[] for y in range(6)]\n",
    "# ------------------------------------------------------------------------------\n",
    "# Maximum number of stations\n",
    "# ------------------------------------------------------------------------------\n",
    "MAX_SIZE = 15\n",
    "same_flag = True\n",
    "for i in range(2,MAX_SIZE+1):\n",
    "    data.append(i)\n",
    "    start_time = time.time()\n",
    "    v1 = min_expense_forward(data)\n",
    "    times[0].append(time.time() - start_time)\n",
    "    start_time = time.time()\n",
    "    v2 = min_expense_backward(data)\n",
    "    times[1].append(time.time() - start_time)\n",
    "    start_time = time.time()\n",
    "    v3 = min_expense_mid(data)\n",
    "    times[2].append(time.time() - start_time)\n",
    "    start_time = time.time()\n",
    "    v4 = min_expense_f_td(data)\n",
    "    times[3].append(time.time() - start_time)\n",
    "    start_time = time.time()\n",
    "    v5 = min_expense_f_bu(data)\n",
    "    times[4].append(time.time() - start_time)\n",
    "    start_time = time.time()\n",
    "    v6 = min_expense_f_bu_en(data)\n",
    "    times[5].append(time.time() - start_time)\n",
    "    \n",
    "    same_flag = same_flag and (v1==v2==v3==v4==v5==v6)\n",
    "# ==============================================================================\n",
    "# Make sure all the results are the same\n",
    "# ==============================================================================\n",
    "print(f\"Are all the results the same? {same_flag}\")"
   ]
  },
  {
   "cell_type": "code",
   "execution_count": 30,
   "metadata": {},
   "outputs": [
    {
     "data": {
      "image/png": "[encoded data removed]",
      "text/plain": [
       "<Figure size 432x288 with 1 Axes>"
      ]
     },
     "metadata": {
      "needs_background": "light"
     },
     "output_type": "display_data"
    }
   ],
   "source": [
    "# ==============================================================================\n",
    "# Compare all the approaches\n",
    "# ==============================================================================\n",
    "f,ax = plt.subplots()\n",
    "ax.plot(range(2,MAX_SIZE+1),times[0],label='Recursive Forward')\n",
    "ax.plot(range(2,MAX_SIZE+1),times[1],label='Recursive Backward')\n",
    "ax.plot(range(2,MAX_SIZE+1),times[2],label='Recursive Mid-Point')\n",
    "ax.plot(range(2,MAX_SIZE+1),times[3],label='DP Top-Down')\n",
    "ax.plot(range(2,MAX_SIZE+1),times[4],label='DP Bottom-Up')\n",
    "ax.plot(range(2,MAX_SIZE+1),times[5],label='DP Bottom-Up Enhanced')\n",
    "ax.set_xlabel('$N$')\n",
    "ax.set_ylabel('Time: seconds')\n",
    "ax.set_title('Minimizing expenses')\n",
    "ax.legend(loc=0);"
   ]
  },
  {
   "cell_type": "code",
   "execution_count": 31,
   "metadata": {},
   "outputs": [
    {
     "data": {
      "image/png": "[encoded data removed]",
      "text/plain": [
       "<Figure size 432x288 with 1 Axes>"
      ]
     },
     "metadata": {
      "needs_background": "light"
     },
     "output_type": "display_data"
    }
   ],
   "source": [
    "# ==============================================================================\n",
    "# Compare the mid-point recursive along with the other DP approaches\n",
    "# ==============================================================================\n",
    "f,ax = plt.subplots()\n",
    "ax.plot(range(2,MAX_SIZE+1),times[2],label='Recursive Mid-Point')\n",
    "ax.plot(range(2,MAX_SIZE+1),times[3],label='DP Top-Down')\n",
    "ax.plot(range(2,MAX_SIZE+1),times[4],label='DP Bottom-Up')\n",
    "ax.plot(range(2,MAX_SIZE+1),times[5],label='DP Bottom-Up Enhanced')\n",
    "ax.set_xlabel('$N$')\n",
    "ax.set_ylabel('Time: seconds')\n",
    "ax.set_title('Minimizing expenses')\n",
    "ax.legend(loc=0);"
   ]
  },
  {
   "cell_type": "markdown",
   "metadata": {},
   "source": [
    "<div class=\"alert alert-block alert-info\">\n",
    "<b>Task:</b> you might want to check your knowledge trying to see if the other two approaches, backward and mid-point, need DP. If yes, modify them to Dynamic Programming.\n",
    "</div>"
   ]
  },
  {
   "cell_type": "markdown",
   "metadata": {
    "tags": []
   },
   "source": [
    "## References and Further Readings"
   ]
  },
  {
   "cell_type": "markdown",
   "metadata": {},
   "source": [
    "- Introduction to Algorithms 3rd Edition [CLRS]\n",
    "    - Ch 15 for Dynamic Programming"
   ]
  }
 ],
 "metadata": {
  "kernelspec": {
   "display_name": "Python 3 (ipykernel)",
   "language": "python",
   "name": "python3"
  },
  "language_info": {
   "codemirror_mode": {
    "name": "ipython",
    "version": 3
   },
   "file_extension": ".py",
   "mimetype": "text/x-python",
   "name": "python",
   "nbconvert_exporter": "python",
   "pygments_lexer": "ipython3",
   "version": "3.10.4"
  }
 },
 "nbformat": 4,
 "nbformat_minor": 4
}
