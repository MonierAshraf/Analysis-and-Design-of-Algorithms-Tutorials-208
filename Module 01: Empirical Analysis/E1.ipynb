{
 "cells": [
  {
   "cell_type": "markdown",
   "metadata": {},
   "source": [
    "# Exercise 1: Prime Testing"
   ]
  },
  {
   "cell_type": "markdown",
   "metadata": {},
   "source": [
    "CSCI304: Analysis and Design of Algorithms<br>\n",
    "Nile University<br>\n",
    "Ammar Sherif<br>\n",
    "Module 01"
   ]
  },
  {
   "cell_type": "markdown",
   "metadata": {},
   "source": [
    "## Problem Statement"
   ]
  },
  {
   "cell_type": "markdown",
   "metadata": {},
   "source": [
    "We want to develop an algorithm that tests whether a number is prime or not\n",
    "**Input:**\n",
    "$$\\boxed{n \\in \\mathbb{Z}\\qquad n \\geq 2}$$"
   ]
  },
  {
   "cell_type": "markdown",
   "metadata": {},
   "source": [
    "## Algorithm Implementation"
   ]
  },
  {
   "cell_type": "code",
   "execution_count": null,
   "metadata": {},
   "outputs": [],
   "source": [
    "# write your implementation here\n",
    "def isPrime(n):\n",
    "    \"\"\"\n",
    "    checks whether the positive integer n, which is at least 2, is prime or not\n",
    "    \n",
    "    It takes\n",
    "     n: represnts the integer value to be checked\n",
    "    \n",
    "    It should return \n",
    "    [-] true or false\n",
    "    \"\"\"\n",
    "    "
   ]
  },
  {
   "cell_type": "markdown",
   "metadata": {},
   "source": [
    "## Trying the Algorithm"
   ]
  },
  {
   "cell_type": "code",
   "execution_count": null,
   "metadata": {},
   "outputs": [],
   "source": [
    "# use some inputs, and see the pattern of the resulted output\n",
    "isPrime(11)"
   ]
  },
  {
   "cell_type": "markdown",
   "metadata": {},
   "source": [
    "## Growth Curve"
   ]
  },
  {
   "cell_type": "markdown",
   "metadata": {},
   "source": [
    "Empirically, using **time measurements**, test your algorithm and **plot a graph** that shows its growth rate when variating the input. Notice, we are interested in the **worst-case** time. We expect it will be when the number is actually prime, so we give you a list of primes to use them in testing your algorithm<br>"
   ]
  },
  {
   "cell_type": "code",
   "execution_count": null,
   "metadata": {},
   "outputs": [],
   "source": [
    "# feel free to import what you want\n",
    "\n",
    "# This line configures matplotlib to show figures embedded in the notebook, \n",
    "# instead of opening a new window for each figure. More about that later. \n",
    "# If you are using an old version of IPython, try using '%pylab inline' instead.\n",
    "%matplotlib inline\n",
    "\n",
    "import matplotlib\n",
    "import matplotlib.pyplot as plt\n",
    "import time"
   ]
  },
  {
   "cell_type": "code",
   "execution_count": null,
   "metadata": {},
   "outputs": [],
   "source": [
    "# recording the time for various calls\n",
    "\n",
    "primes = [2,3,5,7,11,13,17,19,23,29,31,37,41,43,47,53,\n",
    "          59,61,67,71,73,79,83,89,97,101,103,107,109,\n",
    "          113,127,131,137,139,149,151,157,163,167,173,\n",
    "          179,181,191,193,197,199,211,223,227,229,233,\n",
    "          239,241,251,257,263,269,271,277,281,283,293,\n",
    "          307,311,313,317,331,337,347,349,353,359,367,\n",
    "          373,379,383,389,397,401,409,419,421,431,433,\n",
    "          439,443,449,457,461,463,467,479,487,491,499,\n",
    "          503,509,521,523,541,547,557,563,569,571,577,\n",
    "          587,593,599,601,607,613,617,619,631,641,643,\n",
    "          647,653,659,661,673,677,683,691,701,709,719,\n",
    "          727,733,739,743,751,757,761,769,773,787,797,\n",
    "          809,811,821,823,827,829,839,853,857,859,863,\n",
    "          877,881,883,887,907,911,919,929,937,941,947,\n",
    "          953,967,971,977,983,991,997,1009,1013,1019,\n",
    "          1021,1031,1033,1039,1049,1051,1061,1063,1069,\n",
    "          1087,1091,1093,1097,1103,1109,1117,1123,1129,\n",
    "          1151,1153,1163,1171,1181,1187,1193,1201,1213,\n",
    "          1217,1223]\n",
    "\n",
    "\n",
    "times = []\n",
    "# write the code to do empirical analysis to your function.\n",
    "# do not forget the steps"
   ]
  },
  {
   "cell_type": "code",
   "execution_count": null,
   "metadata": {},
   "outputs": [],
   "source": [
    "# the code to plot the curve\n"
   ]
  }
 ],
 "metadata": {
  "kernelspec": {
   "display_name": "Python 3",
   "language": "python",
   "name": "python3"
  },
  "language_info": {
   "codemirror_mode": {
    "name": "ipython",
    "version": 3
   },
   "file_extension": ".py",
   "mimetype": "text/x-python",
   "name": "python",
   "nbconvert_exporter": "python",
   "pygments_lexer": "ipython3",
   "version": "3.8.3"
  }
 },
 "nbformat": 4,
 "nbformat_minor": 1
}
